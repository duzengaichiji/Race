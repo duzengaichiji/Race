{
 "cells": [
  {
   "cell_type": "markdown",
   "metadata": {
    "_uuid": "31bbb38954c1a4d18e8502f89e2fb82a9b3c6f66"
   },
   "source": [
    "Original kernel:  https://www.kaggle.com/wrosinski/baselinemodeling from wrosinski\n",
    "\n",
    "I just replace the LGB part with Bayesian Optimization. "
   ]
  },
  {
   "cell_type": "code",
   "execution_count": 1,
   "metadata": {
    "_uuid": "a194102854a9eaec85445c81d0621d55f1476560"
   },
   "outputs": [],
   "source": [
    "import gc\n",
    "import glob\n",
    "import os\n",
    "import json\n",
    "import matplotlib.pyplot as plt\n",
    "import pprint\n",
    "\n",
    "import numpy as np\n",
    "import pandas as pd\n",
    "\n",
    "from joblib import Parallel, delayed\n",
    "from tqdm import tqdm\n",
    "from PIL import Image\n",
    "\n",
    "%matplotlib inline\n",
    "\n",
    "pd.options.display.max_rows = 128\n",
    "pd.options.display.max_columns = 128\n",
    "\n",
    "# Bayesian Optimization\n",
    "from bayes_opt import BayesianOptimization"
   ]
  },
  {
   "cell_type": "code",
   "execution_count": 2,
   "metadata": {
    "_uuid": "6911a2be5a3b016869b7a94c16bfeb82cd0a7342"
   },
   "outputs": [],
   "source": [
    "plt.rcParams['figure.figsize'] = (12, 9)"
   ]
  },
  {
   "cell_type": "markdown",
   "metadata": {
    "_uuid": "f16a86529d54b5fbc3d24569da81077abab9ba21"
   },
   "source": [
    "### load core DFs (train and test):"
   ]
  },
  {
   "cell_type": "code",
   "execution_count": 3,
   "metadata": {
    "_uuid": "8473644b13e590420cdc349f7fb27a541fb6644b"
   },
   "outputs": [
    {
     "data": {
      "text/plain": [
       "['test.csv', 'sample_submission.csv']"
      ]
     },
     "execution_count": 3,
     "metadata": {},
     "output_type": "execute_result"
    }
   ],
   "source": [
    "os.listdir('../input/test/')"
   ]
  },
  {
   "cell_type": "code",
   "execution_count": 4,
   "metadata": {
    "_uuid": "54985b02f752cd86dd2a39ac261281573ca9e81d",
    "scrolled": true
   },
   "outputs": [],
   "source": [
    "train = pd.read_csv('../input/train/train.csv')\n",
    "test = pd.read_csv('../input/test/test.csv')\n",
    "sample_submission = pd.read_csv('../input/test/sample_submission.csv')"
   ]
  },
  {
   "cell_type": "markdown",
   "metadata": {
    "_uuid": "43025d0dbd7886a7e3d7168a45bec6790307ff44"
   },
   "source": [
    "### load mapping dictionaries:"
   ]
  },
  {
   "cell_type": "code",
   "execution_count": 5,
   "metadata": {
    "_uuid": "cdb36fcca79a9c8db7f139d7266d8c8e4ad021f3"
   },
   "outputs": [],
   "source": [
    "labels_breed = pd.read_csv('../input/breed_labels.csv')\n",
    "labels_state = pd.read_csv('../input/color_labels.csv')\n",
    "labels_color = pd.read_csv('../input/state_labels.csv')"
   ]
  },
  {
   "cell_type": "markdown",
   "metadata": {
    "_uuid": "cd40d640362e85d9818b98e51b0be3aec443762b"
   },
   "source": [
    "### additional data:\n",
    "\n",
    "We have also additional information about pets available in form of:\n",
    "\n",
    "- images\n",
    "- metadata\n",
    "- sentiment\n",
    "\n",
    "Integration of those will enable us to possibly improve the score.\n",
    "Information derived from example from images should be very important, as picture of a pet influences the way we look at an animal in a significant way."
   ]
  },
  {
   "cell_type": "code",
   "execution_count": 6,
   "metadata": {
    "_uuid": "876557740f8c8ccc2b4c0080acee005fb2eff73f"
   },
   "outputs": [
    {
     "name": "stdout",
     "output_type": "stream",
     "text": [
      "num of train images files: 58311\n",
      "num of train metadata files: 58311\n",
      "num of train sentiment files: 14442\n",
      "num of test images files: 15040\n",
      "num of test metadata files: 15040\n",
      "num of test sentiment files: 3815\n"
     ]
    }
   ],
   "source": [
    "train_image_files = sorted(glob.glob('../input/train_images/*.jpg'))\n",
    "train_metadata_files = sorted(glob.glob('../input/train_metadata/*.json'))\n",
    "train_sentiment_files = sorted(glob.glob('../input/train_sentiment/*.json'))\n",
    "\n",
    "print('num of train images files: {}'.format(len(train_image_files)))\n",
    "print('num of train metadata files: {}'.format(len(train_metadata_files)))\n",
    "print('num of train sentiment files: {}'.format(len(train_sentiment_files)))\n",
    "\n",
    "\n",
    "test_image_files = sorted(glob.glob('../input/test_images/*.jpg'))\n",
    "test_metadata_files = sorted(glob.glob('../input/test_metadata/*.json'))\n",
    "test_sentiment_files = sorted(glob.glob('../input/test_sentiment/*.json'))\n",
    "\n",
    "print('num of test images files: {}'.format(len(test_image_files)))\n",
    "print('num of test metadata files: {}'.format(len(test_metadata_files)))\n",
    "print('num of test sentiment files: {}'.format(len(test_sentiment_files)))"
   ]
  },
  {
   "cell_type": "markdown",
   "metadata": {
    "_uuid": "8f0faa84d0f6382e59e704680a0291687022c99e"
   },
   "source": [
    "### train analysis:"
   ]
  },
  {
   "cell_type": "code",
   "execution_count": 7,
   "metadata": {
    "_uuid": "96053ab161520c2d8d40a60e0a2fdf649f65bb23",
    "scrolled": true
   },
   "outputs": [
    {
     "name": "stdout",
     "output_type": "stream",
     "text": [
      "(14993, 1)\n",
      "14652\n",
      "fraction of pets with images: 0.977\n",
      "14652\n",
      "fraction of pets with metadata: 0.977\n",
      "14442\n",
      "fraction of pets with sentiment: 0.963\n"
     ]
    }
   ],
   "source": [
    "plt.rcParams['figure.figsize'] = (12, 9)\n",
    "plt.style.use('ggplot')\n",
    "\n",
    "\n",
    "# Images:\n",
    "train_df_ids = train[['PetID']]\n",
    "print(train_df_ids.shape)\n",
    "\n",
    "train_df_imgs = pd.DataFrame(train_image_files)\n",
    "train_df_imgs.columns = ['image_filename']\n",
    "train_imgs_pets = train_df_imgs['image_filename'].apply(lambda x: x.split('/')[-1].split('-')[0])\n",
    "train_df_imgs = train_df_imgs.assign(PetID=train_imgs_pets)\n",
    "print(len(train_imgs_pets.unique()))\n",
    "\n",
    "pets_with_images = len(np.intersect1d(train_imgs_pets.unique(), train_df_ids['PetID'].unique()))\n",
    "print('fraction of pets with images: {:.3f}'.format(pets_with_images / train_df_ids.shape[0]))\n",
    "\n",
    "# Metadata:\n",
    "train_df_ids = train[['PetID']]\n",
    "train_df_metadata = pd.DataFrame(train_metadata_files)\n",
    "train_df_metadata.columns = ['metadata_filename']\n",
    "train_metadata_pets = train_df_metadata['metadata_filename'].apply(lambda x: x.split('/')[-1].split('-')[0])\n",
    "train_df_metadata = train_df_metadata.assign(PetID=train_metadata_pets)\n",
    "print(len(train_metadata_pets.unique()))\n",
    "\n",
    "pets_with_metadatas = len(np.intersect1d(train_metadata_pets.unique(), train_df_ids['PetID'].unique()))\n",
    "print('fraction of pets with metadata: {:.3f}'.format(pets_with_metadatas / train_df_ids.shape[0]))\n",
    "\n",
    "# Sentiment:\n",
    "train_df_ids = train[['PetID']]\n",
    "train_df_sentiment = pd.DataFrame(train_sentiment_files)\n",
    "train_df_sentiment.columns = ['sentiment_filename']\n",
    "train_sentiment_pets = train_df_sentiment['sentiment_filename'].apply(lambda x: x.split('/')[-1].split('.')[0])\n",
    "train_df_sentiment = train_df_sentiment.assign(PetID=train_sentiment_pets)\n",
    "print(len(train_sentiment_pets.unique()))\n",
    "\n",
    "pets_with_sentiments = len(np.intersect1d(train_sentiment_pets.unique(), train_df_ids['PetID'].unique()))\n",
    "print('fraction of pets with sentiment: {:.3f}'.format(pets_with_sentiments / train_df_ids.shape[0]))"
   ]
  },
  {
   "cell_type": "code",
   "execution_count": 8,
   "metadata": {
    "_uuid": "2d6e48743d5bc42015320b367cc6e11393233264",
    "scrolled": true
   },
   "outputs": [
    {
     "name": "stdout",
     "output_type": "stream",
     "text": [
      "(3948, 1)\n",
      "3821\n",
      "fraction of pets with images: 0.968\n",
      "3821\n",
      "fraction of pets with metadata: 0.968\n",
      "3815\n",
      "fraction of pets with sentiment: 0.966\n",
      "images and metadata distributions the same? True\n"
     ]
    }
   ],
   "source": [
    "# Images:\n",
    "test_df_ids = test[['PetID']]\n",
    "print(test_df_ids.shape)\n",
    "\n",
    "test_df_imgs = pd.DataFrame(test_image_files)\n",
    "test_df_imgs.columns = ['image_filename']\n",
    "test_imgs_pets = test_df_imgs['image_filename'].apply(lambda x: x.split('/')[-1].split('-')[0])\n",
    "test_df_imgs = test_df_imgs.assign(PetID=test_imgs_pets)\n",
    "print(len(test_imgs_pets.unique()))\n",
    "\n",
    "pets_with_images = len(np.intersect1d(test_imgs_pets.unique(), test_df_ids['PetID'].unique()))\n",
    "print('fraction of pets with images: {:.3f}'.format(pets_with_images / test_df_ids.shape[0]))\n",
    "\n",
    "\n",
    "# Metadata:\n",
    "test_df_ids = test[['PetID']]\n",
    "test_df_metadata = pd.DataFrame(test_metadata_files)\n",
    "test_df_metadata.columns = ['metadata_filename']\n",
    "test_metadata_pets = test_df_metadata['metadata_filename'].apply(lambda x: x.split('/')[-1].split('-')[0])\n",
    "test_df_metadata = test_df_metadata.assign(PetID=test_metadata_pets)\n",
    "print(len(test_metadata_pets.unique()))\n",
    "\n",
    "pets_with_metadatas = len(np.intersect1d(test_metadata_pets.unique(), test_df_ids['PetID'].unique()))\n",
    "print('fraction of pets with metadata: {:.3f}'.format(pets_with_metadatas / test_df_ids.shape[0]))\n",
    "\n",
    "\n",
    "\n",
    "# Sentiment:\n",
    "test_df_ids = test[['PetID']]\n",
    "test_df_sentiment = pd.DataFrame(test_sentiment_files)\n",
    "test_df_sentiment.columns = ['sentiment_filename']\n",
    "test_sentiment_pets = test_df_sentiment['sentiment_filename'].apply(lambda x: x.split('/')[-1].split('.')[0])\n",
    "test_df_sentiment = test_df_sentiment.assign(PetID=test_sentiment_pets)\n",
    "print(len(test_sentiment_pets.unique()))\n",
    "\n",
    "pets_with_sentiments = len(np.intersect1d(test_sentiment_pets.unique(), test_df_ids['PetID'].unique()))\n",
    "print('fraction of pets with sentiment: {:.3f}'.format(pets_with_sentiments / test_df_ids.shape[0]))\n",
    "\n",
    "\n",
    "# are distributions the same?\n",
    "print('images and metadata distributions the same? {}'.format(\n",
    "    np.all(test_metadata_pets == test_imgs_pets)))"
   ]
  },
  {
   "cell_type": "markdown",
   "metadata": {
    "_uuid": "18f435d349d1fc384c645b41233d2c5a22860903"
   },
   "source": [
    "### data parsing & feature extraction:\n",
    "\n",
    "After taking a look at the data, we know its structure and can use it to extract additional features and concatenate them with basic train/test DFs."
   ]
  },
  {
   "cell_type": "code",
   "execution_count": 9,
   "metadata": {
    "_uuid": "1db107527d3ef5ba55560679334d16f1d82fb663"
   },
   "outputs": [],
   "source": [
    "class PetFinderParser(object):\n",
    "    \n",
    "    def __init__(self, debug=False):\n",
    "        \n",
    "        self.debug = debug\n",
    "        self.sentence_sep = ' '\n",
    "        \n",
    "        # Does not have to be extracted because main DF already contains description\n",
    "        self.extract_sentiment_text = False\n",
    "        \n",
    "        \n",
    "    def open_metadata_file(self, filename):\n",
    "        \"\"\"\n",
    "        Load metadata file.\n",
    "        \"\"\"\n",
    "        with open(filename, 'r') as f:\n",
    "            metadata_file = json.load(f)\n",
    "        return metadata_file\n",
    "            \n",
    "    def open_sentiment_file(self, filename):\n",
    "        \"\"\"\n",
    "        Load sentiment file.\n",
    "        \"\"\"\n",
    "        with open(filename, 'r') as f:\n",
    "            sentiment_file = json.load(f)\n",
    "        return sentiment_file\n",
    "            \n",
    "    def open_image_file(self, filename):\n",
    "        \"\"\"\n",
    "        Load image file.\n",
    "        \"\"\"\n",
    "        image = np.asarray(Image.open(filename))\n",
    "        return image\n",
    "        \n",
    "    def parse_sentiment_file(self, file):\n",
    "        \"\"\"\n",
    "        Parse sentiment file. Output DF with sentiment features.\n",
    "        \"\"\"\n",
    "        \n",
    "        file_sentiment = file['documentSentiment']\n",
    "        file_entities = [x['name'] for x in file['entities']]\n",
    "        file_entities = self.sentence_sep.join(file_entities)\n",
    "\n",
    "        if self.extract_sentiment_text:\n",
    "            file_sentences_text = [x['text']['content'] for x in file['sentences']]\n",
    "            file_sentences_text = self.sentence_sep.join(file_sentences_text)\n",
    "        file_sentences_sentiment = [x['sentiment'] for x in file['sentences']]\n",
    "        \n",
    "        file_sentences_sentiment = pd.DataFrame.from_dict(\n",
    "            file_sentences_sentiment, orient='columns').sum()\n",
    "        file_sentences_sentiment = file_sentences_sentiment.add_prefix('document_').to_dict()\n",
    "        \n",
    "        file_sentiment.update(file_sentences_sentiment)\n",
    "        \n",
    "        df_sentiment = pd.DataFrame.from_dict(file_sentiment, orient='index').T\n",
    "        if self.extract_sentiment_text:\n",
    "            df_sentiment['text'] = file_sentences_text\n",
    "            \n",
    "        df_sentiment['entities'] = file_entities\n",
    "        df_sentiment = df_sentiment.add_prefix('sentiment_')\n",
    "        \n",
    "        return df_sentiment\n",
    "    \n",
    "    def parse_metadata_file(self, file):\n",
    "        \"\"\"\n",
    "        Parse metadata file. Output DF with metadata features.\n",
    "        \"\"\"\n",
    "        \n",
    "        file_keys = list(file.keys())\n",
    "        \n",
    "        if 'labelAnnotations' in file_keys:\n",
    "            file_annots = file['labelAnnotations'][:int(len(file['labelAnnotations']) * 0.3)]\n",
    "            file_top_score = np.asarray([x['score'] for x in file_annots]).mean()\n",
    "            file_top_desc = [x['description'] for x in file_annots]\n",
    "        else:\n",
    "            file_top_score = np.nan\n",
    "            file_top_desc = ['']\n",
    "        \n",
    "        file_colors = file['imagePropertiesAnnotation']['dominantColors']['colors']\n",
    "        file_crops = file['cropHintsAnnotation']['cropHints']\n",
    "\n",
    "        file_color_score = np.asarray([x['score'] for x in file_colors]).mean()\n",
    "        file_color_pixelfrac = np.asarray([x['pixelFraction'] for x in file_colors]).mean()\n",
    "\n",
    "        file_crop_conf = np.asarray([x['confidence'] for x in file_crops]).mean()\n",
    "        \n",
    "        if 'importanceFraction' in file_crops[0].keys():\n",
    "            file_crop_importance = np.asarray([x['importanceFraction'] for x in file_crops]).mean()\n",
    "        else:\n",
    "            file_crop_importance = np.nan\n",
    "\n",
    "        df_metadata = {\n",
    "            'annots_score': file_top_score,\n",
    "            'color_score': file_color_score,\n",
    "            'color_pixelfrac': file_color_pixelfrac,\n",
    "            'crop_conf': file_crop_conf,\n",
    "            'crop_importance': file_crop_importance,\n",
    "            'annots_top_desc': self.sentence_sep.join(file_top_desc)\n",
    "        }\n",
    "        \n",
    "        df_metadata = pd.DataFrame.from_dict(df_metadata, orient='index').T\n",
    "        df_metadata = df_metadata.add_prefix('metadata_')\n",
    "        \n",
    "        return df_metadata\n",
    "    \n",
    "\n",
    "# Helper function for parallel data processing:\n",
    "def extract_additional_features(pet_id, mode='train'):\n",
    "    \n",
    "    sentiment_filename = '../input/{}_sentiment/{}.json'.format(mode, pet_id)\n",
    "    try:\n",
    "        sentiment_file = pet_parser.open_sentiment_file(sentiment_filename)\n",
    "        df_sentiment = pet_parser.parse_sentiment_file(sentiment_file)\n",
    "        df_sentiment['PetID'] = pet_id\n",
    "    except FileNotFoundError:\n",
    "        df_sentiment = []\n",
    "\n",
    "    dfs_metadata = []\n",
    "    metadata_filenames = sorted(glob.glob('../input/{}_metadata/{}*.json'.format(mode, pet_id)))\n",
    "    if len(metadata_filenames) > 0:\n",
    "        for f in metadata_filenames:\n",
    "            metadata_file = pet_parser.open_metadata_file(f)\n",
    "            df_metadata = pet_parser.parse_metadata_file(metadata_file)\n",
    "            df_metadata['PetID'] = pet_id\n",
    "            dfs_metadata.append(df_metadata)\n",
    "        dfs_metadata = pd.concat(dfs_metadata, ignore_index=True, sort=False)\n",
    "    dfs = [df_sentiment, dfs_metadata]\n",
    "    \n",
    "    return dfs\n",
    "\n",
    "\n",
    "pet_parser = PetFinderParser()"
   ]
  },
  {
   "cell_type": "code",
   "execution_count": 10,
   "metadata": {
    "_uuid": "1b8c6eedb089ac6df143592de6455c1978b460f6",
    "scrolled": false
   },
   "outputs": [
    {
     "name": "stderr",
     "output_type": "stream",
     "text": [
      "[Parallel(n_jobs=6)]: Using backend LokyBackend with 6 concurrent workers.\n",
      "[Parallel(n_jobs=6)]: Done  38 tasks      | elapsed:    7.4s\n",
      "[Parallel(n_jobs=6)]: Done 188 tasks      | elapsed:   13.9s\n",
      "[Parallel(n_jobs=6)]: Done 438 tasks      | elapsed:   24.4s\n",
      "[Parallel(n_jobs=6)]: Done 788 tasks      | elapsed:   39.0s\n",
      "[Parallel(n_jobs=6)]: Done 1238 tasks      | elapsed:   57.8s\n",
      "[Parallel(n_jobs=6)]: Done 1788 tasks      | elapsed:  1.3min\n",
      "[Parallel(n_jobs=6)]: Done 2438 tasks      | elapsed:  1.8min\n",
      "[Parallel(n_jobs=6)]: Done 3188 tasks      | elapsed:  2.3min\n",
      "[Parallel(n_jobs=6)]: Done 4038 tasks      | elapsed:  2.9min\n",
      "[Parallel(n_jobs=6)]: Done 4988 tasks      | elapsed:  3.6min\n",
      "[Parallel(n_jobs=6)]: Done 6038 tasks      | elapsed:  4.3min\n",
      "[Parallel(n_jobs=6)]: Done 7188 tasks      | elapsed:  5.1min\n",
      "[Parallel(n_jobs=6)]: Done 8438 tasks      | elapsed:  6.0min\n",
      "[Parallel(n_jobs=6)]: Done 9788 tasks      | elapsed:  6.9min\n",
      "[Parallel(n_jobs=6)]: Done 11238 tasks      | elapsed:  7.9min\n",
      "[Parallel(n_jobs=6)]: Done 12788 tasks      | elapsed:  9.0min\n",
      "[Parallel(n_jobs=6)]: Done 14438 tasks      | elapsed: 10.1min\n",
      "[Parallel(n_jobs=6)]: Done 14993 out of 14993 | elapsed: 10.5min finished\n"
     ]
    },
    {
     "name": "stdout",
     "output_type": "stream",
     "text": [
      "(14442, 6) (58311, 7)\n"
     ]
    },
    {
     "name": "stderr",
     "output_type": "stream",
     "text": [
      "[Parallel(n_jobs=6)]: Using backend LokyBackend with 6 concurrent workers.\n",
      "[Parallel(n_jobs=6)]: Done  92 tasks      | elapsed:    1.4s\n",
      "[Parallel(n_jobs=6)]: Done 692 tasks      | elapsed:   10.3s\n",
      "[Parallel(n_jobs=6)]: Done 1692 tasks      | elapsed:   26.0s\n",
      "[Parallel(n_jobs=6)]: Done 3092 tasks      | elapsed:   46.5s\n",
      "[Parallel(n_jobs=6)]: Done 3948 out of 3948 | elapsed:   58.6s finished\n"
     ]
    },
    {
     "name": "stdout",
     "output_type": "stream",
     "text": [
      "(3815, 6) (15040, 7)\n"
     ]
    }
   ],
   "source": [
    "# Unique IDs from train and test:\n",
    "debug = False\n",
    "train_pet_ids = train.PetID.unique()\n",
    "test_pet_ids = test.PetID.unique()\n",
    "\n",
    "if debug:\n",
    "    train_pet_ids = train_pet_ids[:1000]\n",
    "    test_pet_ids = test_pet_ids[:500]\n",
    "\n",
    "\n",
    "# Train set:\n",
    "# Parallel processing of data:\n",
    "dfs_train = Parallel(n_jobs=6, verbose=1)(\n",
    "    delayed(extract_additional_features)(i, mode='train') for i in train_pet_ids)\n",
    "\n",
    "# Extract processed data and format them as DFs:\n",
    "train_dfs_sentiment = [x[0] for x in dfs_train if isinstance(x[0], pd.DataFrame)]\n",
    "train_dfs_metadata = [x[1] for x in dfs_train if isinstance(x[1], pd.DataFrame)]\n",
    "\n",
    "train_dfs_sentiment = pd.concat(train_dfs_sentiment, ignore_index=True, sort=False)\n",
    "train_dfs_metadata = pd.concat(train_dfs_metadata, ignore_index=True, sort=False)\n",
    "\n",
    "print(train_dfs_sentiment.shape, train_dfs_metadata.shape)\n",
    "\n",
    "\n",
    "# Test set:\n",
    "# Parallel processing of data:\n",
    "dfs_test = Parallel(n_jobs=6, verbose=1)(\n",
    "    delayed(extract_additional_features)(i, mode='test') for i in test_pet_ids)\n",
    "\n",
    "# Extract processed data and format them as DFs:\n",
    "test_dfs_sentiment = [x[0] for x in dfs_test if isinstance(x[0], pd.DataFrame)]\n",
    "test_dfs_metadata = [x[1] for x in dfs_test if isinstance(x[1], pd.DataFrame)]\n",
    "\n",
    "test_dfs_sentiment = pd.concat(test_dfs_sentiment, ignore_index=True, sort=False)\n",
    "test_dfs_metadata = pd.concat(test_dfs_metadata, ignore_index=True, sort=False)\n",
    "\n",
    "print(test_dfs_sentiment.shape, test_dfs_metadata.shape)"
   ]
  },
  {
   "cell_type": "markdown",
   "metadata": {
    "_uuid": "76489c2957389009c1b55ec2142ebf5dd9d7a923"
   },
   "source": [
    "### group extracted features by PetID:"
   ]
  },
  {
   "cell_type": "code",
   "execution_count": 11,
   "metadata": {
    "_uuid": "558824a494ce6b6c5821d2cb85420393bf728338"
   },
   "outputs": [],
   "source": [
    "# Extend aggregates and improve column naming\n",
    "aggregates = ['mean', 'sum']\n",
    "\n",
    "\n",
    "# Train\n",
    "train_metadata_desc = train_dfs_metadata.groupby(['PetID'])['metadata_annots_top_desc'].unique()\n",
    "train_metadata_desc = train_metadata_desc.reset_index()\n",
    "train_metadata_desc[\n",
    "    'metadata_annots_top_desc'] = train_metadata_desc[\n",
    "    'metadata_annots_top_desc'].apply(lambda x: ' '.join(x))\n",
    "\n",
    "prefix = 'metadata'\n",
    "train_metadata_gr = train_dfs_metadata.drop(['metadata_annots_top_desc'], axis=1)\n",
    "for i in train_metadata_gr.columns:\n",
    "    if 'PetID' not in i:\n",
    "        train_metadata_gr[i] = train_metadata_gr[i].astype(float)\n",
    "train_metadata_gr = train_metadata_gr.groupby(['PetID']).agg(aggregates)\n",
    "train_metadata_gr.columns = pd.Index(['{}_{}_{}'.format(\n",
    "            prefix, c[0], c[1].upper()) for c in train_metadata_gr.columns.tolist()])\n",
    "train_metadata_gr = train_metadata_gr.reset_index()\n",
    "\n",
    "\n",
    "train_sentiment_desc = train_dfs_sentiment.groupby(['PetID'])['sentiment_entities'].unique()\n",
    "train_sentiment_desc = train_sentiment_desc.reset_index()\n",
    "train_sentiment_desc[\n",
    "    'sentiment_entities'] = train_sentiment_desc[\n",
    "    'sentiment_entities'].apply(lambda x: ' '.join(x))\n",
    "\n",
    "prefix = 'sentiment'\n",
    "train_sentiment_gr = train_dfs_sentiment.drop(['sentiment_entities'], axis=1)\n",
    "for i in train_sentiment_gr.columns:\n",
    "    if 'PetID' not in i:\n",
    "        train_sentiment_gr[i] = train_sentiment_gr[i].astype(float)\n",
    "train_sentiment_gr = train_sentiment_gr.groupby(['PetID']).agg(aggregates)\n",
    "train_sentiment_gr.columns = pd.Index(['{}_{}_{}'.format(\n",
    "            prefix, c[0], c[1].upper()) for c in train_sentiment_gr.columns.tolist()])\n",
    "train_sentiment_gr = train_sentiment_gr.reset_index()\n",
    "\n",
    "\n",
    "# Test\n",
    "test_metadata_desc = test_dfs_metadata.groupby(['PetID'])['metadata_annots_top_desc'].unique()\n",
    "test_metadata_desc = test_metadata_desc.reset_index()\n",
    "test_metadata_desc[\n",
    "    'metadata_annots_top_desc'] = test_metadata_desc[\n",
    "    'metadata_annots_top_desc'].apply(lambda x: ' '.join(x))\n",
    "\n",
    "prefix = 'metadata'\n",
    "test_metadata_gr = test_dfs_metadata.drop(['metadata_annots_top_desc'], axis=1)\n",
    "for i in test_metadata_gr.columns:\n",
    "    if 'PetID' not in i:\n",
    "        test_metadata_gr[i] = test_metadata_gr[i].astype(float)\n",
    "test_metadata_gr = test_metadata_gr.groupby(['PetID']).agg(aggregates)\n",
    "test_metadata_gr.columns = pd.Index(['{}_{}_{}'.format(\n",
    "            prefix, c[0], c[1].upper()) for c in test_metadata_gr.columns.tolist()])\n",
    "test_metadata_gr = test_metadata_gr.reset_index()\n",
    "\n",
    "\n",
    "test_sentiment_desc = test_dfs_sentiment.groupby(['PetID'])['sentiment_entities'].unique()\n",
    "test_sentiment_desc = test_sentiment_desc.reset_index()\n",
    "test_sentiment_desc[\n",
    "    'sentiment_entities'] = test_sentiment_desc[\n",
    "    'sentiment_entities'].apply(lambda x: ' '.join(x))\n",
    "\n",
    "prefix = 'sentiment'\n",
    "test_sentiment_gr = test_dfs_sentiment.drop(['sentiment_entities'], axis=1)\n",
    "for i in test_sentiment_gr.columns:\n",
    "    if 'PetID' not in i:\n",
    "        test_sentiment_gr[i] = test_sentiment_gr[i].astype(float)\n",
    "test_sentiment_gr = test_sentiment_gr.groupby(['PetID']).agg(aggregates)\n",
    "test_sentiment_gr.columns = pd.Index(['{}_{}_{}'.format(\n",
    "            prefix, c[0], c[1].upper()) for c in test_sentiment_gr.columns.tolist()])\n",
    "test_sentiment_gr = test_sentiment_gr.reset_index()"
   ]
  },
  {
   "cell_type": "markdown",
   "metadata": {
    "_uuid": "132f5680377aa571312a860adb1506cb05ef37b7"
   },
   "source": [
    "### merge processed DFs with base train/test DF:"
   ]
  },
  {
   "cell_type": "code",
   "execution_count": 12,
   "metadata": {
    "_uuid": "947ecbc24175147fb4808f7d85068a851d39cd57"
   },
   "outputs": [
    {
     "name": "stdout",
     "output_type": "stream",
     "text": [
      "(14993, 44) (3948, 43)\n"
     ]
    }
   ],
   "source": [
    "# Train merges:\n",
    "train_proc = train.copy()\n",
    "train_proc = train_proc.merge(\n",
    "    train_sentiment_gr, how='left', on='PetID')\n",
    "train_proc = train_proc.merge(\n",
    "    train_metadata_gr, how='left', on='PetID')\n",
    "train_proc = train_proc.merge(\n",
    "    train_metadata_desc, how='left', on='PetID')\n",
    "train_proc = train_proc.merge(\n",
    "    train_sentiment_desc, how='left', on='PetID')\n",
    "\n",
    "# Test merges:\n",
    "test_proc = test.copy()\n",
    "test_proc = test_proc.merge(\n",
    "    test_sentiment_gr, how='left', on='PetID')\n",
    "test_proc = test_proc.merge(\n",
    "    test_metadata_gr, how='left', on='PetID')\n",
    "test_proc = test_proc.merge(\n",
    "    test_metadata_desc, how='left', on='PetID')\n",
    "test_proc = test_proc.merge(\n",
    "    test_sentiment_desc, how='left', on='PetID')\n",
    "\n",
    "\n",
    "print(train_proc.shape, test_proc.shape)\n",
    "assert train_proc.shape[0] == train.shape[0]\n",
    "assert test_proc.shape[0] == test.shape[0]"
   ]
  },
  {
   "cell_type": "markdown",
   "metadata": {
    "_uuid": "dc1c92dca3d8e7d3bee4e7c42c24def791e9df28"
   },
   "source": [
    "### add breed mapping:"
   ]
  },
  {
   "cell_type": "code",
   "execution_count": 13,
   "metadata": {
    "_uuid": "a44dda1090936393134d00e5024b74c56935b4ba"
   },
   "outputs": [
    {
     "name": "stdout",
     "output_type": "stream",
     "text": [
      "(14993, 48) (3948, 47)\n"
     ]
    }
   ],
   "source": [
    "train_breed_main = train_proc[['Breed1']].merge(\n",
    "    labels_breed, how='left',\n",
    "    left_on='Breed1', right_on='BreedID',\n",
    "    suffixes=('', '_main_breed'))\n",
    "\n",
    "train_breed_main = train_breed_main.iloc[:, 2:]\n",
    "train_breed_main = train_breed_main.add_prefix('main_breed_')\n",
    "\n",
    "train_breed_second = train_proc[['Breed2']].merge(\n",
    "    labels_breed, how='left',\n",
    "    left_on='Breed2', right_on='BreedID',\n",
    "    suffixes=('', '_second_breed'))\n",
    "\n",
    "train_breed_second = train_breed_second.iloc[:, 2:]\n",
    "train_breed_second = train_breed_second.add_prefix('second_breed_')\n",
    "\n",
    "\n",
    "train_proc = pd.concat(\n",
    "    [train_proc, train_breed_main, train_breed_second], axis=1)\n",
    "\n",
    "\n",
    "test_breed_main = test_proc[['Breed1']].merge(\n",
    "    labels_breed, how='left',\n",
    "    left_on='Breed1', right_on='BreedID',\n",
    "    suffixes=('', '_main_breed'))\n",
    "\n",
    "test_breed_main = test_breed_main.iloc[:, 2:]\n",
    "test_breed_main = test_breed_main.add_prefix('main_breed_')\n",
    "\n",
    "test_breed_second = test_proc[['Breed2']].merge(\n",
    "    labels_breed, how='left',\n",
    "    left_on='Breed2', right_on='BreedID',\n",
    "    suffixes=('', '_second_breed'))\n",
    "\n",
    "test_breed_second = test_breed_second.iloc[:, 2:]\n",
    "test_breed_second = test_breed_second.add_prefix('second_breed_')\n",
    "\n",
    "\n",
    "test_proc = pd.concat(\n",
    "    [test_proc, test_breed_main, test_breed_second], axis=1)\n",
    "\n",
    "print(train_proc.shape, test_proc.shape)"
   ]
  },
  {
   "cell_type": "markdown",
   "metadata": {
    "_uuid": "509754ac9784439024c118860ceef27edbe4ce84"
   },
   "source": [
    "### concatenate train & test:\n",
    "\n",
    "Inspect NaN structure of the processed data:\n",
    "`AdoptionSpeed` is the target column."
   ]
  },
  {
   "cell_type": "code",
   "execution_count": 14,
   "metadata": {
    "_uuid": "a5561dc64fb58b47da60da90a8fa1aaa35349cce",
    "scrolled": true
   },
   "outputs": [
    {
     "name": "stdout",
     "output_type": "stream",
     "text": [
      "NaN structure:\n",
      "Type                                               0\n",
      "Name                                            1560\n",
      "Age                                                0\n",
      "Breed1                                             0\n",
      "Breed2                                             0\n",
      "Gender                                             0\n",
      "Color1                                             0\n",
      "Color2                                             0\n",
      "Color3                                             0\n",
      "MaturitySize                                       0\n",
      "FurLength                                          0\n",
      "Vaccinated                                         0\n",
      "Dewormed                                           0\n",
      "Sterilized                                         0\n",
      "Health                                             0\n",
      "Quantity                                           0\n",
      "Fee                                                0\n",
      "State                                              0\n",
      "RescuerID                                          0\n",
      "VideoAmt                                           0\n",
      "Description                                       14\n",
      "PetID                                              0\n",
      "PhotoAmt                                           0\n",
      "AdoptionSpeed                                   3948\n",
      "sentiment_sentiment_magnitude_MEAN               684\n",
      "sentiment_sentiment_magnitude_SUM                684\n",
      "sentiment_sentiment_score_MEAN                   684\n",
      "sentiment_sentiment_score_SUM                    684\n",
      "sentiment_sentiment_document_magnitude_MEAN      684\n",
      "sentiment_sentiment_document_magnitude_SUM       684\n",
      "sentiment_sentiment_document_score_MEAN          684\n",
      "sentiment_sentiment_document_score_SUM           684\n",
      "metadata_metadata_annots_score_MEAN              487\n",
      "metadata_metadata_annots_score_SUM               468\n",
      "metadata_metadata_color_score_MEAN               468\n",
      "metadata_metadata_color_score_SUM                468\n",
      "metadata_metadata_color_pixelfrac_MEAN           468\n",
      "metadata_metadata_color_pixelfrac_SUM            468\n",
      "metadata_metadata_crop_conf_MEAN                 468\n",
      "metadata_metadata_crop_conf_SUM                  468\n",
      "metadata_metadata_crop_importance_MEAN           468\n",
      "metadata_metadata_crop_importance_SUM            468\n",
      "metadata_annots_top_desc                         468\n",
      "sentiment_entities                               684\n",
      "main_breed_Type                                    5\n",
      "main_breed_BreedName                               5\n",
      "second_breed_Type                              13840\n",
      "second_breed_BreedName                         13840\n",
      "dtype: int64\n"
     ]
    }
   ],
   "source": [
    "X = pd.concat([train_proc, test_proc], ignore_index=True, sort=False)\n",
    "print('NaN structure:\\n{}'.format(np.sum(pd.isnull(X))))"
   ]
  },
  {
   "cell_type": "code",
   "execution_count": 15,
   "metadata": {
    "_uuid": "707623a2bc031be931b9793fa3a462f491e938cf"
   },
   "outputs": [
    {
     "data": {
      "text/plain": [
       "['X_temp.joblib']"
      ]
     },
     "execution_count": 15,
     "metadata": {},
     "output_type": "execute_result"
    }
   ],
   "source": [
    "import joblib\n",
    "\n",
    "joblib.dump(X, 'X_temp.joblib')"
   ]
  },
  {
   "cell_type": "markdown",
   "metadata": {
    "_uuid": "fb503cf4d614ea3f7edd103f5d0cc570986ad0a2"
   },
   "source": [
    "### extract different column types:\n",
    "\n",
    "- integer columns are usually categorical features, which do not need encoding\n",
    "- float columns are numerical features\n",
    "- object columns are categorical features, which should be encoded"
   ]
  },
  {
   "cell_type": "code",
   "execution_count": 16,
   "metadata": {
    "_uuid": "3528d7e8036c8b8bb0c5da254d9cd18d2019607d",
    "scrolled": true
   },
   "outputs": [
    {
     "name": "stdout",
     "output_type": "stream",
     "text": [
      "\tinteger columns:\n",
      "Type            int64\n",
      "Age             int64\n",
      "Breed1          int64\n",
      "Breed2          int64\n",
      "Gender          int64\n",
      "Color1          int64\n",
      "Color2          int64\n",
      "Color3          int64\n",
      "MaturitySize    int64\n",
      "FurLength       int64\n",
      "Vaccinated      int64\n",
      "Dewormed        int64\n",
      "Sterilized      int64\n",
      "Health          int64\n",
      "Quantity        int64\n",
      "Fee             int64\n",
      "State           int64\n",
      "VideoAmt        int64\n",
      "dtype: object\n",
      "\n",
      "\tfloat columns:\n",
      "PhotoAmt                                       float64\n",
      "AdoptionSpeed                                  float64\n",
      "sentiment_sentiment_magnitude_MEAN             float64\n",
      "sentiment_sentiment_magnitude_SUM              float64\n",
      "sentiment_sentiment_score_MEAN                 float64\n",
      "sentiment_sentiment_score_SUM                  float64\n",
      "sentiment_sentiment_document_magnitude_MEAN    float64\n",
      "sentiment_sentiment_document_magnitude_SUM     float64\n",
      "sentiment_sentiment_document_score_MEAN        float64\n",
      "sentiment_sentiment_document_score_SUM         float64\n",
      "metadata_metadata_annots_score_MEAN            float64\n",
      "metadata_metadata_annots_score_SUM             float64\n",
      "metadata_metadata_color_score_MEAN             float64\n",
      "metadata_metadata_color_score_SUM              float64\n",
      "metadata_metadata_color_pixelfrac_MEAN         float64\n",
      "metadata_metadata_color_pixelfrac_SUM          float64\n",
      "metadata_metadata_crop_conf_MEAN               float64\n",
      "metadata_metadata_crop_conf_SUM                float64\n",
      "metadata_metadata_crop_importance_MEAN         float64\n",
      "metadata_metadata_crop_importance_SUM          float64\n",
      "main_breed_Type                                float64\n",
      "second_breed_Type                              float64\n",
      "dtype: object\n",
      "\n",
      "\tto encode categorical columns:\n",
      "Name                        object\n",
      "RescuerID                   object\n",
      "Description                 object\n",
      "PetID                       object\n",
      "metadata_annots_top_desc    object\n",
      "sentiment_entities          object\n",
      "main_breed_BreedName        object\n",
      "second_breed_BreedName      object\n",
      "dtype: object\n"
     ]
    }
   ],
   "source": [
    "column_types = X.dtypes\n",
    "\n",
    "int_cols = column_types[column_types == 'int']\n",
    "float_cols = column_types[column_types == 'float']\n",
    "cat_cols = column_types[column_types == 'object']\n",
    "\n",
    "print('\\tinteger columns:\\n{}'.format(int_cols))\n",
    "print('\\n\\tfloat columns:\\n{}'.format(float_cols))\n",
    "print('\\n\\tto encode categorical columns:\\n{}'.format(cat_cols))"
   ]
  },
  {
   "cell_type": "markdown",
   "metadata": {
    "_uuid": "a424da889496d55188c3c8478f0035c9fa8a7555"
   },
   "source": [
    "### feature engineering:"
   ]
  },
  {
   "cell_type": "code",
   "execution_count": 17,
   "metadata": {
    "_uuid": "3a220d5a9cd973e97c894d57b1ef8f6c6e95fdc5"
   },
   "outputs": [],
   "source": [
    "# Copy original X DF for easier experimentation,\n",
    "# all feature engineering will be performed on this one:\n",
    "X_temp = X.copy()\n",
    "\n",
    "\n",
    "# Select subsets of columns:\n",
    "text_columns = ['Description', 'metadata_annots_top_desc', 'sentiment_entities']\n",
    "categorical_columns = ['main_breed_BreedName', 'second_breed_BreedName']\n",
    "\n",
    "# Names are all unique, so they can be dropped by default\n",
    "# Same goes for PetID, it shouldn't be used as a feature\n",
    "to_drop_columns = ['PetID', 'Name', 'RescuerID']\n",
    "# RescuerID will also be dropped, as a feature based on this column will be extracted independently"
   ]
  },
  {
   "cell_type": "code",
   "execution_count": 18,
   "metadata": {
    "_uuid": "68d8f68c17adb43e1c5c86a773058b09c208d721",
    "scrolled": true
   },
   "outputs": [],
   "source": [
    "# Count RescuerID occurrences:\n",
    "rescuer_count = X.groupby(['RescuerID'])['PetID'].count().reset_index()\n",
    "rescuer_count.columns = ['RescuerID', 'RescuerID_COUNT']\n",
    "\n",
    "# Merge as another feature onto main DF:\n",
    "X_temp = X_temp.merge(rescuer_count, how='left', on='RescuerID')"
   ]
  },
  {
   "cell_type": "code",
   "execution_count": 19,
   "metadata": {
    "_uuid": "a228cc25a0b400527671a077471cde07068cc975"
   },
   "outputs": [],
   "source": [
    "# Factorize categorical columns:\n",
    "for i in categorical_columns:\n",
    "    X_temp.loc[:, i] = pd.factorize(X_temp.loc[:, i])[0]"
   ]
  },
  {
   "cell_type": "code",
   "execution_count": 20,
   "metadata": {
    "_uuid": "c5e1043f2ba2ca95566ccfeb60ea04a470041c44"
   },
   "outputs": [
    {
     "name": "stderr",
     "output_type": "stream",
     "text": [
      "/opt/conda/lib/python3.6/site-packages/pandas/core/indexing.py:630: SettingWithCopyWarning: \n",
      "A value is trying to be set on a copy of a slice from a DataFrame.\n",
      "Try using .loc[row_indexer,col_indexer] = value instead\n",
      "\n",
      "See the caveats in the documentation: http://pandas.pydata.org/pandas-docs/stable/indexing.html#indexing-view-versus-copy\n",
      "  self.obj[item_labels[indexer[info_axis]]] = value\n"
     ]
    }
   ],
   "source": [
    "# Subset text features:\n",
    "X_text = X_temp[text_columns]\n",
    "\n",
    "for i in X_text.columns:\n",
    "    X_text.loc[:, i] = X_text.loc[:, i].fillna('<MISSING>')"
   ]
  },
  {
   "cell_type": "code",
   "execution_count": 21,
   "metadata": {
    "_uuid": "0f5d0c82ad86bf1010cda2db2f35c1e32f4406fa",
    "scrolled": true
   },
   "outputs": [
    {
     "name": "stdout",
     "output_type": "stream",
     "text": [
      "generating features from: Description\n",
      "generating features from: metadata_annots_top_desc\n",
      "generating features from: sentiment_entities\n"
     ]
    }
   ],
   "source": [
    "from sklearn.feature_extraction.text import TfidfVectorizer\n",
    "from sklearn.decomposition import SparsePCA, TruncatedSVD, LatentDirichletAllocation, NMF\n",
    "\n",
    "n_components = 5\n",
    "text_features = []\n",
    "\n",
    "\n",
    "# Generate text features:\n",
    "for i in X_text.columns:\n",
    "    \n",
    "    # Initialize decomposition methods:\n",
    "    print('generating features from: {}'.format(i))\n",
    "    svd_ = TruncatedSVD(\n",
    "        n_components=n_components, random_state=1337)\n",
    "    nmf_ = NMF(\n",
    "        n_components=n_components, random_state=1337)\n",
    "    \n",
    "    tfidf_col = TfidfVectorizer().fit_transform(X_text.loc[:, i].values)\n",
    "    svd_col = svd_.fit_transform(tfidf_col)\n",
    "    svd_col = pd.DataFrame(svd_col)\n",
    "    svd_col = svd_col.add_prefix('SVD_{}_'.format(i))\n",
    "    \n",
    "    nmf_col = nmf_.fit_transform(tfidf_col)\n",
    "    nmf_col = pd.DataFrame(nmf_col)\n",
    "    nmf_col = nmf_col.add_prefix('NMF_{}_'.format(i))\n",
    "    \n",
    "    text_features.append(svd_col)\n",
    "    text_features.append(nmf_col)\n",
    "\n",
    "    \n",
    "# Combine all extracted features:\n",
    "text_features = pd.concat(text_features, axis=1)\n",
    "\n",
    "# Concatenate with main DF:\n",
    "X_temp = pd.concat([X_temp, text_features], axis=1)\n",
    "\n",
    "# Remove raw text columns:\n",
    "for i in X_text.columns:\n",
    "    X_temp = X_temp.drop(i, axis=1)"
   ]
  },
  {
   "cell_type": "code",
   "execution_count": 22,
   "metadata": {
    "_uuid": "3ba80726173d872ca31e1c13e10256e05db0ff40"
   },
   "outputs": [
    {
     "name": "stdout",
     "output_type": "stream",
     "text": [
      "X shape: (18941, 73)\n"
     ]
    }
   ],
   "source": [
    "# Remove unnecessary columns:\n",
    "X_temp = X_temp.drop(to_drop_columns, axis=1)\n",
    "\n",
    "# Check final df shape:\n",
    "print('X shape: {}'.format(X_temp.shape))"
   ]
  },
  {
   "cell_type": "markdown",
   "metadata": {
    "_uuid": "5acc8411e12eb4f741956b1ae608017e10950040"
   },
   "source": [
    "### train/test split:"
   ]
  },
  {
   "cell_type": "code",
   "execution_count": 23,
   "metadata": {
    "_uuid": "ef5a8fdbe2b786bbc3ffdc797cfa3ca02262b70e"
   },
   "outputs": [
    {
     "name": "stdout",
     "output_type": "stream",
     "text": [
      "X_train shape: (14993, 73)\n",
      "X_test shape: (3948, 72)\n"
     ]
    }
   ],
   "source": [
    "# Split into train and test again:\n",
    "X_train = X_temp.loc[np.isfinite(X_temp.AdoptionSpeed), :]\n",
    "X_test = X_temp.loc[~np.isfinite(X_temp.AdoptionSpeed), :]\n",
    "\n",
    "# Remove missing target column from test:\n",
    "X_test = X_test.drop(['AdoptionSpeed'], axis=1)\n",
    "\n",
    "\n",
    "print('X_train shape: {}'.format(X_train.shape))\n",
    "print('X_test shape: {}'.format(X_test.shape))\n",
    "\n",
    "assert X_train.shape[0] == train.shape[0]\n",
    "assert X_test.shape[0] == test.shape[0]\n",
    "\n",
    "\n",
    "# Check if columns between the two DFs are the same:\n",
    "train_cols = X_train.columns.tolist()\n",
    "train_cols.remove('AdoptionSpeed')\n",
    "\n",
    "test_cols = X_test.columns.tolist()\n",
    "\n",
    "assert np.all(train_cols == test_cols)"
   ]
  },
  {
   "cell_type": "markdown",
   "metadata": {
    "_uuid": "0e0d21d076fc196facd083d6e3ae7cdbb1d575a3"
   },
   "source": [
    "### train and test NaN structure:"
   ]
  },
  {
   "cell_type": "code",
   "execution_count": 24,
   "metadata": {
    "_uuid": "0d232ef1ddd004597ac58f171697d122d17e63d8",
    "scrolled": true
   },
   "outputs": [
    {
     "data": {
      "text/plain": [
       "Type                                               0\n",
       "Age                                                0\n",
       "Breed1                                             0\n",
       "Breed2                                             0\n",
       "Gender                                             0\n",
       "Color1                                             0\n",
       "Color2                                             0\n",
       "Color3                                             0\n",
       "MaturitySize                                       0\n",
       "FurLength                                          0\n",
       "Vaccinated                                         0\n",
       "Dewormed                                           0\n",
       "Sterilized                                         0\n",
       "Health                                             0\n",
       "Quantity                                           0\n",
       "Fee                                                0\n",
       "State                                              0\n",
       "VideoAmt                                           0\n",
       "PhotoAmt                                           0\n",
       "AdoptionSpeed                                      0\n",
       "sentiment_sentiment_magnitude_MEAN               551\n",
       "sentiment_sentiment_magnitude_SUM                551\n",
       "sentiment_sentiment_score_MEAN                   551\n",
       "sentiment_sentiment_score_SUM                    551\n",
       "sentiment_sentiment_document_magnitude_MEAN      551\n",
       "sentiment_sentiment_document_magnitude_SUM       551\n",
       "sentiment_sentiment_document_score_MEAN          551\n",
       "sentiment_sentiment_document_score_SUM           551\n",
       "metadata_metadata_annots_score_MEAN              356\n",
       "metadata_metadata_annots_score_SUM               341\n",
       "metadata_metadata_color_score_MEAN               341\n",
       "metadata_metadata_color_score_SUM                341\n",
       "metadata_metadata_color_pixelfrac_MEAN           341\n",
       "metadata_metadata_color_pixelfrac_SUM            341\n",
       "metadata_metadata_crop_conf_MEAN                 341\n",
       "metadata_metadata_crop_conf_SUM                  341\n",
       "metadata_metadata_crop_importance_MEAN           341\n",
       "metadata_metadata_crop_importance_SUM            341\n",
       "main_breed_Type                                    5\n",
       "main_breed_BreedName                               0\n",
       "second_breed_Type                              10762\n",
       "second_breed_BreedName                             0\n",
       "RescuerID_COUNT                                    0\n",
       "SVD_Description_0                                  0\n",
       "SVD_Description_1                                  0\n",
       "SVD_Description_2                                  0\n",
       "SVD_Description_3                                  0\n",
       "SVD_Description_4                                  0\n",
       "NMF_Description_0                                  0\n",
       "NMF_Description_1                                  0\n",
       "NMF_Description_2                                  0\n",
       "NMF_Description_3                                  0\n",
       "NMF_Description_4                                  0\n",
       "SVD_metadata_annots_top_desc_0                     0\n",
       "SVD_metadata_annots_top_desc_1                     0\n",
       "SVD_metadata_annots_top_desc_2                     0\n",
       "SVD_metadata_annots_top_desc_3                     0\n",
       "SVD_metadata_annots_top_desc_4                     0\n",
       "NMF_metadata_annots_top_desc_0                     0\n",
       "NMF_metadata_annots_top_desc_1                     0\n",
       "NMF_metadata_annots_top_desc_2                     0\n",
       "NMF_metadata_annots_top_desc_3                     0\n",
       "NMF_metadata_annots_top_desc_4                     0\n",
       "SVD_sentiment_entities_0                           0\n",
       "SVD_sentiment_entities_1                           0\n",
       "SVD_sentiment_entities_2                           0\n",
       "SVD_sentiment_entities_3                           0\n",
       "SVD_sentiment_entities_4                           0\n",
       "NMF_sentiment_entities_0                           0\n",
       "NMF_sentiment_entities_1                           0\n",
       "NMF_sentiment_entities_2                           0\n",
       "NMF_sentiment_entities_3                           0\n",
       "NMF_sentiment_entities_4                           0\n",
       "dtype: int64"
      ]
     },
     "execution_count": 24,
     "metadata": {},
     "output_type": "execute_result"
    }
   ],
   "source": [
    "np.sum(pd.isnull(X_train))"
   ]
  },
  {
   "cell_type": "code",
   "execution_count": 25,
   "metadata": {
    "_uuid": "ec6ee11a3b7d0ca97d3faf0cccd06bab9dd17637",
    "scrolled": true
   },
   "outputs": [
    {
     "data": {
      "text/plain": [
       "Type                                              0\n",
       "Age                                               0\n",
       "Breed1                                            0\n",
       "Breed2                                            0\n",
       "Gender                                            0\n",
       "Color1                                            0\n",
       "Color2                                            0\n",
       "Color3                                            0\n",
       "MaturitySize                                      0\n",
       "FurLength                                         0\n",
       "Vaccinated                                        0\n",
       "Dewormed                                          0\n",
       "Sterilized                                        0\n",
       "Health                                            0\n",
       "Quantity                                          0\n",
       "Fee                                               0\n",
       "State                                             0\n",
       "VideoAmt                                          0\n",
       "PhotoAmt                                          0\n",
       "sentiment_sentiment_magnitude_MEAN              133\n",
       "sentiment_sentiment_magnitude_SUM               133\n",
       "sentiment_sentiment_score_MEAN                  133\n",
       "sentiment_sentiment_score_SUM                   133\n",
       "sentiment_sentiment_document_magnitude_MEAN     133\n",
       "sentiment_sentiment_document_magnitude_SUM      133\n",
       "sentiment_sentiment_document_score_MEAN         133\n",
       "sentiment_sentiment_document_score_SUM          133\n",
       "metadata_metadata_annots_score_MEAN             131\n",
       "metadata_metadata_annots_score_SUM              127\n",
       "metadata_metadata_color_score_MEAN              127\n",
       "metadata_metadata_color_score_SUM               127\n",
       "metadata_metadata_color_pixelfrac_MEAN          127\n",
       "metadata_metadata_color_pixelfrac_SUM           127\n",
       "metadata_metadata_crop_conf_MEAN                127\n",
       "metadata_metadata_crop_conf_SUM                 127\n",
       "metadata_metadata_crop_importance_MEAN          127\n",
       "metadata_metadata_crop_importance_SUM           127\n",
       "main_breed_Type                                   0\n",
       "main_breed_BreedName                              0\n",
       "second_breed_Type                              3078\n",
       "second_breed_BreedName                            0\n",
       "RescuerID_COUNT                                   0\n",
       "SVD_Description_0                                 0\n",
       "SVD_Description_1                                 0\n",
       "SVD_Description_2                                 0\n",
       "SVD_Description_3                                 0\n",
       "SVD_Description_4                                 0\n",
       "NMF_Description_0                                 0\n",
       "NMF_Description_1                                 0\n",
       "NMF_Description_2                                 0\n",
       "NMF_Description_3                                 0\n",
       "NMF_Description_4                                 0\n",
       "SVD_metadata_annots_top_desc_0                    0\n",
       "SVD_metadata_annots_top_desc_1                    0\n",
       "SVD_metadata_annots_top_desc_2                    0\n",
       "SVD_metadata_annots_top_desc_3                    0\n",
       "SVD_metadata_annots_top_desc_4                    0\n",
       "NMF_metadata_annots_top_desc_0                    0\n",
       "NMF_metadata_annots_top_desc_1                    0\n",
       "NMF_metadata_annots_top_desc_2                    0\n",
       "NMF_metadata_annots_top_desc_3                    0\n",
       "NMF_metadata_annots_top_desc_4                    0\n",
       "SVD_sentiment_entities_0                          0\n",
       "SVD_sentiment_entities_1                          0\n",
       "SVD_sentiment_entities_2                          0\n",
       "SVD_sentiment_entities_3                          0\n",
       "SVD_sentiment_entities_4                          0\n",
       "NMF_sentiment_entities_0                          0\n",
       "NMF_sentiment_entities_1                          0\n",
       "NMF_sentiment_entities_2                          0\n",
       "NMF_sentiment_entities_3                          0\n",
       "NMF_sentiment_entities_4                          0\n",
       "dtype: int64"
      ]
     },
     "execution_count": 25,
     "metadata": {},
     "output_type": "execute_result"
    }
   ],
   "source": [
    "np.sum(pd.isnull(X_test))"
   ]
  },
  {
   "cell_type": "markdown",
   "metadata": {
    "_uuid": "a87c86df9fd01e6c1b744a7d21b40d816ca66106"
   },
   "source": [
    "### model training:"
   ]
  },
  {
   "cell_type": "code",
   "execution_count": 26,
   "metadata": {
    "_uuid": "7302b59080f81bde834d10e386dd35cdad394e12"
   },
   "outputs": [],
   "source": [
    "import scipy as sp\n",
    "\n",
    "from collections import Counter\n",
    "from functools import partial\n",
    "from math import sqrt\n",
    "\n",
    "from sklearn.metrics import cohen_kappa_score, mean_squared_error\n",
    "from sklearn.metrics import confusion_matrix as sk_cmatrix\n",
    "\n",
    "\n",
    "# FROM: https://www.kaggle.com/myltykritik/simple-lgbm-image-features\n",
    "\n",
    "# The following 3 functions have been taken from Ben Hamner's github repository\n",
    "# https://github.com/benhamner/Metrics\n",
    "def confusion_matrix(rater_a, rater_b, min_rating=None, max_rating=None):\n",
    "    \"\"\"\n",
    "    Returns the confusion matrix between rater's ratings\n",
    "    \"\"\"\n",
    "    assert(len(rater_a) == len(rater_b))\n",
    "    if min_rating is None:\n",
    "        min_rating = min(rater_a + rater_b)\n",
    "    if max_rating is None:\n",
    "        max_rating = max(rater_a + rater_b)\n",
    "    num_ratings = int(max_rating - min_rating + 1)\n",
    "    conf_mat = [[0 for i in range(num_ratings)]\n",
    "                for j in range(num_ratings)]\n",
    "    for a, b in zip(rater_a, rater_b):\n",
    "        conf_mat[a - min_rating][b - min_rating] += 1\n",
    "    return conf_mat\n",
    "\n",
    "\n",
    "def histogram(ratings, min_rating=None, max_rating=None):\n",
    "    \"\"\"\n",
    "    Returns the counts of each type of rating that a rater made\n",
    "    \"\"\"\n",
    "    if min_rating is None:\n",
    "        min_rating = min(ratings)\n",
    "    if max_rating is None:\n",
    "        max_rating = max(ratings)\n",
    "    num_ratings = int(max_rating - min_rating + 1)\n",
    "    hist_ratings = [0 for x in range(num_ratings)]\n",
    "    for r in ratings:\n",
    "        hist_ratings[r - min_rating] += 1\n",
    "    return hist_ratings\n",
    "\n",
    "\n",
    "def quadratic_weighted_kappa(y, y_pred):\n",
    "    \"\"\"\n",
    "    Calculates the quadratic weighted kappa\n",
    "    axquadratic_weighted_kappa calculates the quadratic weighted kappa\n",
    "    value, which is a measure of inter-rater agreement between two raters\n",
    "    that provide discrete numeric ratings.  Potential values range from -1\n",
    "    (representing complete disagreement) to 1 (representing complete\n",
    "    agreement).  A kappa value of 0 is expected if all agreement is due to\n",
    "    chance.\n",
    "    quadratic_weighted_kappa(rater_a, rater_b), where rater_a and rater_b\n",
    "    each correspond to a list of integer ratings.  These lists must have the\n",
    "    same length.\n",
    "    The ratings should be integers, and it is assumed that they contain\n",
    "    the complete range of possible ratings.\n",
    "    quadratic_weighted_kappa(X, min_rating, max_rating), where min_rating\n",
    "    is the minimum possible rating, and max_rating is the maximum possible\n",
    "    rating\n",
    "    \"\"\"\n",
    "    rater_a = y\n",
    "    rater_b = y_pred\n",
    "    min_rating=None\n",
    "    max_rating=None\n",
    "    rater_a = np.array(rater_a, dtype=int)\n",
    "    rater_b = np.array(rater_b, dtype=int)\n",
    "    assert(len(rater_a) == len(rater_b))\n",
    "    if min_rating is None:\n",
    "        min_rating = min(min(rater_a), min(rater_b))\n",
    "    if max_rating is None:\n",
    "        max_rating = max(max(rater_a), max(rater_b))\n",
    "    conf_mat = confusion_matrix(rater_a, rater_b,\n",
    "                                min_rating, max_rating)\n",
    "    num_ratings = len(conf_mat)\n",
    "    num_scored_items = float(len(rater_a))\n",
    "\n",
    "    hist_rater_a = histogram(rater_a, min_rating, max_rating)\n",
    "    hist_rater_b = histogram(rater_b, min_rating, max_rating)\n",
    "\n",
    "    numerator = 0.0\n",
    "    denominator = 0.0\n",
    "\n",
    "    for i in range(num_ratings):\n",
    "        for j in range(num_ratings):\n",
    "            expected_count = (hist_rater_a[i] * hist_rater_b[j]\n",
    "                              / num_scored_items)\n",
    "            d = pow(i - j, 2.0) / pow(num_ratings - 1, 2.0)\n",
    "            numerator += d * conf_mat[i][j] / num_scored_items\n",
    "            denominator += d * expected_count / num_scored_items\n",
    "\n",
    "    return (1.0 - numerator / denominator)\n",
    "\n",
    "class OptimizedRounder(object):\n",
    "    def __init__(self):\n",
    "        self.coef_ = 0\n",
    "\n",
    "    def _kappa_loss(self, coef, X, y):\n",
    "        X_p = np.copy(X)\n",
    "        for i, pred in enumerate(X_p):\n",
    "            if pred < coef[0]:\n",
    "                X_p[i] = 0\n",
    "            elif pred >= coef[0] and pred < coef[1]:\n",
    "                X_p[i] = 1\n",
    "            elif pred >= coef[1] and pred < coef[2]:\n",
    "                X_p[i] = 2\n",
    "            elif pred >= coef[2] and pred < coef[3]:\n",
    "                X_p[i] = 3\n",
    "            else:\n",
    "                X_p[i] = 4\n",
    "\n",
    "        ll = quadratic_weighted_kappa(y, X_p)\n",
    "        return -ll\n",
    "\n",
    "    def fit(self, X, y):\n",
    "        loss_partial = partial(self._kappa_loss, X=X, y=y)\n",
    "        initial_coef = [0.5, 1.5, 2.5, 3.5]\n",
    "        self.coef_ = sp.optimize.minimize(loss_partial, initial_coef, method='nelder-mead')\n",
    "\n",
    "    def predict(self, X, coef):\n",
    "        X_p = np.copy(X)\n",
    "        for i, pred in enumerate(X_p):\n",
    "            if pred < coef[0]:\n",
    "                X_p[i] = 0\n",
    "            elif pred >= coef[0] and pred < coef[1]:\n",
    "                X_p[i] = 1\n",
    "            elif pred >= coef[1] and pred < coef[2]:\n",
    "                X_p[i] = 2\n",
    "            elif pred >= coef[2] and pred < coef[3]:\n",
    "                X_p[i] = 3\n",
    "            else:\n",
    "                X_p[i] = 4\n",
    "        return X_p\n",
    "\n",
    "    def coefficients(self):\n",
    "        return self.coef_['x']\n",
    "    \n",
    "def rmse(actual, predicted):\n",
    "    return sqrt(mean_squared_error(actual, predicted))"
   ]
  },
  {
   "cell_type": "markdown",
   "metadata": {
    "_uuid": "54c345ddd953e3d1834f0ecc3e8c3e440210c598"
   },
   "source": [
    "## now it's time for Bayes\n",
    "\n",
    "credit: https://www.kaggle.com/fayzur/lgb-bayesian-parameters-finding-rank-average"
   ]
  },
  {
   "cell_type": "code",
   "execution_count": 27,
   "metadata": {
    "_uuid": "65d9aa220c6f8c15331b3c445a89900875bddaea"
   },
   "outputs": [],
   "source": [
    "import lightgbm as lgb\n",
    "\n",
    "from sklearn.model_selection import StratifiedKFold\n",
    "\n",
    "# Additional parameters:\n",
    "early_stop = 500\n",
    "verbose_eval = 1000\n",
    "num_rounds = 10000\n",
    "n_splits = 5"
   ]
  },
  {
   "cell_type": "code",
   "execution_count": 28,
   "metadata": {
    "_uuid": "696468bef829c9ad391d1f4ef013d752fd124451"
   },
   "outputs": [],
   "source": [
    "def LGB_bayesian(num_leaves,\n",
    "                 max_depth,\n",
    "                 max_bin,\n",
    "                 bagging_fraction,\n",
    "                 bagging_freq,\n",
    "                 feature_fraction,\n",
    "                 min_split_gain,\n",
    "                 min_child_samples,\n",
    "                 min_child_weight,\n",
    "                 lambda_l2):\n",
    "    \n",
    "    num_leaves = int(num_leaves)\n",
    "    max_depth = int(max_depth)\n",
    "    max_bin = int(max_bin)\n",
    "    bagging_freq = int(bagging_freq)\n",
    "    min_child_samples = int(min_child_samples)\n",
    "    \n",
    "    kf = StratifiedKFold(n_splits=n_splits, random_state=42, shuffle=True)\n",
    "    fold_splits = kf.split(X_train, X_train['AdoptionSpeed'].values)\n",
    "    \n",
    "    score = 0.\n",
    "    for train_index, valid_index in list(fold_splits):\n",
    "    \n",
    "        X_tr = X_train.iloc[train_index, :]\n",
    "        X_val = X_train.iloc[valid_index, :]\n",
    "\n",
    "        y_tr = X_tr['AdoptionSpeed'].values\n",
    "        X_tr = X_tr.drop(['AdoptionSpeed'], axis=1)\n",
    "\n",
    "        y_val = X_val['AdoptionSpeed'].values\n",
    "        X_val = X_val.drop(['AdoptionSpeed'], axis=1)\n",
    "        \n",
    "        d_train = lgb.Dataset(X_tr, label=y_tr)\n",
    "        d_valid = lgb.Dataset(X_val, label=y_val)\n",
    "        watchlist = [d_train, d_valid]\n",
    "        \n",
    "        params = {\n",
    "            'application': 'regression', \n",
    "            'boosting': 'gbdt', \n",
    "            'metric': 'rmse', \n",
    "            'num_leaves': num_leaves, \n",
    "            'max_depth': max_depth, \n",
    "            'max_bin': max_bin, \n",
    "            'bagging_fraction': bagging_fraction, \n",
    "            'bagging_freq': bagging_freq, \n",
    "            'feature_fraction': feature_fraction, \n",
    "            'min_split_gain': min_split_gain, \n",
    "            'min_child_samples': min_child_samples, \n",
    "            'min_child_weight': min_child_weight, \n",
    "            'lambda_l2': lambda_l2, \n",
    "            'learning_rate': 0.01,\n",
    "            'verbosity': -1, \n",
    "            'data_random_seed': 17\n",
    "        }\n",
    "        \n",
    "        model = lgb.train(params,\n",
    "                      train_set=d_train,\n",
    "                      num_boost_round=num_rounds,\n",
    "                      valid_sets=watchlist,\n",
    "                      verbose_eval=verbose_eval,\n",
    "                      early_stopping_rounds=early_stop)\n",
    "        \n",
    "        val_pred = model.predict(X_val, num_iteration=model.best_iteration)\n",
    "        optR = OptimizedRounder()\n",
    "        optR.fit(val_pred, y_val)\n",
    "        coefficients = optR.coefficients()\n",
    "        val_pred_k = optR.predict(val_pred, coefficients)\n",
    "        \n",
    "        # score is n-fold mean QWK\n",
    "        score += quadratic_weighted_kappa(y_val, val_pred_k) / n_splits\n",
    "    \n",
    "    return score"
   ]
  },
  {
   "cell_type": "code",
   "execution_count": 29,
   "metadata": {
    "_uuid": "2633dcd6bd220b1d94c6b11e41f1f31a84689586"
   },
   "outputs": [
    {
     "name": "stdout",
     "output_type": "stream",
     "text": [
      "Training until validation scores don't improve for 500 rounds.\n",
      "[1000]\ttraining's rmse: 1.03115\tvalid_1's rmse: 1.07449\n",
      "[2000]\ttraining's rmse: 0.999515\tvalid_1's rmse: 1.06802\n",
      "Early stopping, best iteration is:\n",
      "[1897]\ttraining's rmse: 1.0026\tvalid_1's rmse: 1.06725\n",
      "Training until validation scores don't improve for 500 rounds.\n",
      "[1000]\ttraining's rmse: 1.03619\tvalid_1's rmse: 1.06485\n",
      "[2000]\ttraining's rmse: 1.0056\tvalid_1's rmse: 1.05771\n",
      "Early stopping, best iteration is:\n",
      "[2143]\ttraining's rmse: 1.00179\tvalid_1's rmse: 1.05716\n",
      "Training until validation scores don't improve for 500 rounds.\n",
      "[1000]\ttraining's rmse: 1.0349\tvalid_1's rmse: 1.06346\n",
      "[2000]\ttraining's rmse: 1.00562\tvalid_1's rmse: 1.05598\n",
      "[3000]\ttraining's rmse: 0.981565\tvalid_1's rmse: 1.05333\n",
      "Early stopping, best iteration is:\n",
      "[3333]\ttraining's rmse: 0.974806\tvalid_1's rmse: 1.0526\n",
      "Training until validation scores don't improve for 500 rounds.\n",
      "[1000]\ttraining's rmse: 1.03533\tvalid_1's rmse: 1.06561\n",
      "[2000]\ttraining's rmse: 1.0063\tvalid_1's rmse: 1.05936\n",
      "Early stopping, best iteration is:\n",
      "[2026]\ttraining's rmse: 1.00567\tvalid_1's rmse: 1.0591\n",
      "Training until validation scores don't improve for 500 rounds.\n",
      "[1000]\ttraining's rmse: 1.03767\tvalid_1's rmse: 1.05927\n",
      "Early stopping, best iteration is:\n",
      "[1434]\ttraining's rmse: 1.02255\tvalid_1's rmse: 1.05326\n",
      "0.4189769329864641\n"
     ]
    }
   ],
   "source": [
    "# test our black box function\n",
    "\n",
    "print(LGB_bayesian(20,3,10.1,0.5,100,0.5,0.5,20,0.5,0.5))"
   ]
  },
  {
   "cell_type": "code",
   "execution_count": 30,
   "metadata": {
    "_uuid": "1bd6bf1e0ae46a66d07219442a28e658cd422e5d"
   },
   "outputs": [],
   "source": [
    "bounds_LGB = {\n",
    "    'num_leaves': (40, 150), \n",
    "    'max_depth': (6, 12), \n",
    "    'max_bin': (30, 80), \n",
    "    'bagging_fraction': (0.6, 1.0), \n",
    "    'bagging_freq': (1, 50), \n",
    "    'feature_fraction': (0.5, 0.8), \n",
    "    'min_split_gain': (0.0, 1.0), \n",
    "    'min_child_samples': (25, 125), \n",
    "    'min_child_weight': (0.0, 1.0), \n",
    "    'lambda_l2': (0.0, 3.0)\n",
    "}\n",
    "\n",
    "LGB_BO = BayesianOptimization(LGB_bayesian, bounds_LGB, random_state=42)\n",
    "\n",
    "init_points = 5\n",
    "n_iter = 5"
   ]
  },
  {
   "cell_type": "code",
   "execution_count": 31,
   "metadata": {
    "_uuid": "9c4562b0881537df85abf5ba3074c2e05f05910d",
    "scrolled": false
   },
   "outputs": [
    {
     "name": "stdout",
     "output_type": "stream",
     "text": [
      "----------------------------------------------------------------------------------------------------------------------------------\n",
      "|   iter    |  target   | baggin... | baggin... | featur... | lambda_l2 |  max_bin  | max_depth | min_ch... | min_ch... | min_sp... | num_le... |\n",
      "-------------------------------------------------------------------------------------------------------------------------------------------------\n",
      "Training until validation scores don't improve for 500 rounds.\n",
      "[1000]\ttraining's rmse: 0.864609\tvalid_1's rmse: 1.06098\n",
      "[2000]\ttraining's rmse: 0.751127\tvalid_1's rmse: 1.05767\n",
      "Early stopping, best iteration is:\n",
      "[1718]\ttraining's rmse: 0.778698\tvalid_1's rmse: 1.05696\n",
      "Training until validation scores don't improve for 500 rounds.\n",
      "[1000]\ttraining's rmse: 0.863948\tvalid_1's rmse: 1.04521\n",
      "Early stopping, best iteration is:\n",
      "[1446]\ttraining's rmse: 0.806568\tvalid_1's rmse: 1.04383\n",
      "Training until validation scores don't improve for 500 rounds.\n",
      "[1000]\ttraining's rmse: 0.862381\tvalid_1's rmse: 1.04522\n",
      "Early stopping, best iteration is:\n",
      "[1359]\ttraining's rmse: 0.819001\tvalid_1's rmse: 1.04457\n",
      "Training until validation scores don't improve for 500 rounds.\n",
      "[1000]\ttraining's rmse: 0.864887\tvalid_1's rmse: 1.04754\n",
      "[2000]\ttraining's rmse: 0.749986\tvalid_1's rmse: 1.04536\n",
      "Early stopping, best iteration is:\n",
      "[2391]\ttraining's rmse: 0.718253\tvalid_1's rmse: 1.04491\n",
      "Training until validation scores don't improve for 500 rounds.\n",
      "[1000]\ttraining's rmse: 0.864023\tvalid_1's rmse: 1.03644\n",
      "[2000]\ttraining's rmse: 0.748724\tvalid_1's rmse: 1.03379\n",
      "Early stopping, best iteration is:\n",
      "[1928]\ttraining's rmse: 0.755562\tvalid_1's rmse: 1.03276\n",
      "| \u001b[0m 1       \u001b[0m | \u001b[0m 0.4359  \u001b[0m | \u001b[0m 0.7498  \u001b[0m | \u001b[0m 47.59   \u001b[0m | \u001b[0m 0.7196  \u001b[0m | \u001b[0m 1.796   \u001b[0m | \u001b[0m 37.8    \u001b[0m | \u001b[0m 6.936   \u001b[0m | \u001b[0m 30.81   \u001b[0m | \u001b[0m 0.8662  \u001b[0m | \u001b[0m 0.6011  \u001b[0m | \u001b[0m 117.9   \u001b[0m |\n",
      "Training until validation scores don't improve for 500 rounds.\n",
      "[1000]\ttraining's rmse: 0.853996\tvalid_1's rmse: 1.0576\n",
      "Early stopping, best iteration is:\n",
      "[1044]\ttraining's rmse: 0.847451\tvalid_1's rmse: 1.0572\n",
      "Training until validation scores don't improve for 500 rounds.\n",
      "[1000]\ttraining's rmse: 0.85988\tvalid_1's rmse: 1.04923\n",
      "Early stopping, best iteration is:\n",
      "[906]\ttraining's rmse: 0.872484\tvalid_1's rmse: 1.04765\n",
      "Training until validation scores don't improve for 500 rounds.\n",
      "[1000]\ttraining's rmse: 0.855744\tvalid_1's rmse: 1.04565\n",
      "Early stopping, best iteration is:\n",
      "[1464]\ttraining's rmse: 0.791506\tvalid_1's rmse: 1.04013\n",
      "Training until validation scores don't improve for 500 rounds.\n",
      "[1000]\ttraining's rmse: 0.861503\tvalid_1's rmse: 1.04688\n",
      "Early stopping, best iteration is:\n",
      "[1016]\ttraining's rmse: 0.859214\tvalid_1's rmse: 1.04675\n",
      "Training until validation scores don't improve for 500 rounds.\n",
      "[1000]\ttraining's rmse: 0.856343\tvalid_1's rmse: 1.03836\n",
      "Early stopping, best iteration is:\n",
      "[1438]\ttraining's rmse: 0.796773\tvalid_1's rmse: 1.03706\n",
      "| \u001b[0m 2       \u001b[0m | \u001b[0m 0.4352  \u001b[0m | \u001b[0m 0.6082  \u001b[0m | \u001b[0m 48.53   \u001b[0m | \u001b[0m 0.7497  \u001b[0m | \u001b[0m 0.637   \u001b[0m | \u001b[0m 39.09   \u001b[0m | \u001b[0m 7.1     \u001b[0m | \u001b[0m 55.42   \u001b[0m | \u001b[0m 0.5248  \u001b[0m | \u001b[0m 0.4319  \u001b[0m | \u001b[0m 72.04   \u001b[0m |\n",
      "Training until validation scores don't improve for 500 rounds.\n",
      "[1000]\ttraining's rmse: 0.80687\tvalid_1's rmse: 1.05812\n",
      "[2000]\ttraining's rmse: 0.682415\tvalid_1's rmse: 1.05764\n",
      "Early stopping, best iteration is:\n",
      "[1566]\ttraining's rmse: 0.724119\tvalid_1's rmse: 1.0563\n",
      "Training until validation scores don't improve for 500 rounds.\n",
      "[1000]\ttraining's rmse: 0.812487\tvalid_1's rmse: 1.03991\n",
      "Early stopping, best iteration is:\n",
      "[1118]\ttraining's rmse: 0.792128\tvalid_1's rmse: 1.03892\n",
      "Training until validation scores don't improve for 500 rounds.\n",
      "[1000]\ttraining's rmse: 0.810593\tvalid_1's rmse: 1.04134\n",
      "[2000]\ttraining's rmse: 0.688887\tvalid_1's rmse: 1.03994\n",
      "Early stopping, best iteration is:\n",
      "[1765]\ttraining's rmse: 0.708209\tvalid_1's rmse: 1.03967\n",
      "Training until validation scores don't improve for 500 rounds.\n",
      "[1000]\ttraining's rmse: 0.811481\tvalid_1's rmse: 1.04206\n",
      "[2000]\ttraining's rmse: 0.689476\tvalid_1's rmse: 1.03988\n",
      "Early stopping, best iteration is:\n",
      "[2062]\ttraining's rmse: 0.685514\tvalid_1's rmse: 1.0397\n",
      "Training until validation scores don't improve for 500 rounds.\n",
      "[1000]\ttraining's rmse: 0.812179\tvalid_1's rmse: 1.03021\n",
      "Early stopping, best iteration is:\n",
      "[1323]\ttraining's rmse: 0.760436\tvalid_1's rmse: 1.02912\n",
      "| \u001b[95m 3       \u001b[0m | \u001b[95m 0.4426  \u001b[0m | \u001b[95m 0.8447  \u001b[0m | \u001b[95m 7.835   \u001b[0m | \u001b[95m 0.5876  \u001b[0m | \u001b[95m 1.099   \u001b[0m | \u001b[95m 52.8    \u001b[0m | \u001b[95m 10.71   \u001b[0m | \u001b[95m 44.97   \u001b[0m | \u001b[95m 0.5142  \u001b[0m | \u001b[95m 0.5924  \u001b[0m | \u001b[95m 45.11   \u001b[0m |\n",
      "Training until validation scores don't improve for 500 rounds.\n",
      "[1000]\ttraining's rmse: 0.725256\tvalid_1's rmse: 1.05474\n",
      "[2000]\ttraining's rmse: 0.657184\tvalid_1's rmse: 1.05442\n",
      "Early stopping, best iteration is:\n",
      "[1853]\ttraining's rmse: 0.660551\tvalid_1's rmse: 1.05412\n",
      "Training until validation scores don't improve for 500 rounds.\n",
      "[1000]\ttraining's rmse: 0.738866\tvalid_1's rmse: 1.03631\n",
      "Early stopping, best iteration is:\n",
      "[1296]\ttraining's rmse: 0.701854\tvalid_1's rmse: 1.03573\n",
      "Training until validation scores don't improve for 500 rounds.\n",
      "[1000]\ttraining's rmse: 0.729545\tvalid_1's rmse: 1.03867\n",
      "[2000]\ttraining's rmse: 0.661766\tvalid_1's rmse: 1.03741\n",
      "Early stopping, best iteration is:\n",
      "[1837]\ttraining's rmse: 0.665778\tvalid_1's rmse: 1.0373\n",
      "Training until validation scores don't improve for 500 rounds.\n",
      "[1000]\ttraining's rmse: 0.735582\tvalid_1's rmse: 1.04275\n",
      "Early stopping, best iteration is:\n",
      "[1383]\ttraining's rmse: 0.691559\tvalid_1's rmse: 1.04247\n",
      "Training until validation scores don't improve for 500 rounds.\n",
      "[1000]\ttraining's rmse: 0.734322\tvalid_1's rmse: 1.0278\n",
      "[2000]\ttraining's rmse: 0.661476\tvalid_1's rmse: 1.02777\n",
      "Early stopping, best iteration is:\n",
      "[1539]\ttraining's rmse: 0.681921\tvalid_1's rmse: 1.02672\n",
      "| \u001b[0m 4       \u001b[0m | \u001b[0m 0.4333  \u001b[0m | \u001b[0m 0.843   \u001b[0m | \u001b[0m 9.356   \u001b[0m | \u001b[0m 0.5195  \u001b[0m | \u001b[0m 2.847   \u001b[0m | \u001b[0m 78.28   \u001b[0m | \u001b[0m 10.85   \u001b[0m | \u001b[0m 55.46   \u001b[0m | \u001b[0m 0.09767 \u001b[0m | \u001b[0m 0.6842  \u001b[0m | \u001b[0m 88.42   \u001b[0m |\n",
      "Training until validation scores don't improve for 500 rounds.\n",
      "[1000]\ttraining's rmse: 0.797917\tvalid_1's rmse: 1.05989\n",
      "Early stopping, best iteration is:\n",
      "[1093]\ttraining's rmse: 0.78057\tvalid_1's rmse: 1.05888\n",
      "Training until validation scores don't improve for 500 rounds.\n",
      "[1000]\ttraining's rmse: 0.802227\tvalid_1's rmse: 1.04202\n",
      "Early stopping, best iteration is:\n",
      "[1264]\ttraining's rmse: 0.760244\tvalid_1's rmse: 1.04174\n",
      "Training until validation scores don't improve for 500 rounds.\n",
      "[1000]\ttraining's rmse: 0.799334\tvalid_1's rmse: 1.04139\n",
      "[2000]\ttraining's rmse: 0.661437\tvalid_1's rmse: 1.04159\n",
      "Early stopping, best iteration is:\n",
      "[1665]\ttraining's rmse: 0.700145\tvalid_1's rmse: 1.0401\n",
      "Training until validation scores don't improve for 500 rounds.\n",
      "[1000]\ttraining's rmse: 0.80278\tvalid_1's rmse: 1.04318\n",
      "Early stopping, best iteration is:\n",
      "[1330]\ttraining's rmse: 0.752294\tvalid_1's rmse: 1.04226\n",
      "Training until validation scores don't improve for 500 rounds.\n",
      "[1000]\ttraining's rmse: 0.80175\tvalid_1's rmse: 1.03254\n",
      "[2000]\ttraining's rmse: 0.666474\tvalid_1's rmse: 1.03173\n",
      "Early stopping, best iteration is:\n",
      "[1583]\ttraining's rmse: 0.716252\tvalid_1's rmse: 1.02983\n",
      "| \u001b[95m 5       \u001b[0m | \u001b[95m 0.4428  \u001b[0m | \u001b[95m 0.6488  \u001b[0m | \u001b[95m 25.26   \u001b[0m | \u001b[95m 0.5103  \u001b[0m | \u001b[95m 2.728   \u001b[0m | \u001b[95m 42.94   \u001b[0m | \u001b[95m 9.975   \u001b[0m | \u001b[95m 56.17   \u001b[0m | \u001b[95m 0.5201  \u001b[0m | \u001b[95m 0.5467  \u001b[0m | \u001b[95m 60.33   \u001b[0m |\n",
      "Training until validation scores don't improve for 500 rounds.\n",
      "[1000]\ttraining's rmse: 0.868609\tvalid_1's rmse: 1.05895\n",
      "Early stopping, best iteration is:\n",
      "[1220]\ttraining's rmse: 0.840916\tvalid_1's rmse: 1.05843\n",
      "Training until validation scores don't improve for 500 rounds.\n",
      "[1000]\ttraining's rmse: 0.876771\tvalid_1's rmse: 1.0409\n",
      "Early stopping, best iteration is:\n",
      "[1231]\ttraining's rmse: 0.846744\tvalid_1's rmse: 1.03985\n",
      "Training until validation scores don't improve for 500 rounds.\n",
      "[1000]\ttraining's rmse: 0.86935\tvalid_1's rmse: 1.04183\n",
      "[2000]\ttraining's rmse: 0.753718\tvalid_1's rmse: 1.0387\n",
      "Early stopping, best iteration is:\n",
      "[1845]\ttraining's rmse: 0.769472\tvalid_1's rmse: 1.03848\n",
      "Training until validation scores don't improve for 500 rounds.\n",
      "[1000]\ttraining's rmse: 0.873679\tvalid_1's rmse: 1.04441\n",
      "[2000]\ttraining's rmse: 0.759352\tvalid_1's rmse: 1.04161\n",
      "Early stopping, best iteration is:\n",
      "[2022]\ttraining's rmse: 0.757435\tvalid_1's rmse: 1.04154\n",
      "Training until validation scores don't improve for 500 rounds.\n",
      "[1000]\ttraining's rmse: 0.871605\tvalid_1's rmse: 1.03361\n",
      "[2000]\ttraining's rmse: 0.758257\tvalid_1's rmse: 1.03015\n",
      "Early stopping, best iteration is:\n",
      "[1846]\ttraining's rmse: 0.773901\tvalid_1's rmse: 1.02998\n",
      "| \u001b[0m 6       \u001b[0m | \u001b[0m 0.4399  \u001b[0m | \u001b[0m 0.8732  \u001b[0m | \u001b[0m 1.935   \u001b[0m | \u001b[0m 0.5361  \u001b[0m | \u001b[0m 1.303   \u001b[0m | \u001b[0m 31.86   \u001b[0m | \u001b[0m 8.196   \u001b[0m | \u001b[0m 120.1   \u001b[0m | \u001b[0m 0.9177  \u001b[0m | \u001b[0m 0.09953 \u001b[0m | \u001b[0m 146.4   \u001b[0m |\n",
      "Training until validation scores don't improve for 500 rounds.\n",
      "[1000]\ttraining's rmse: 0.815135\tvalid_1's rmse: 1.0577\n",
      "[2000]\ttraining's rmse: 0.693815\tvalid_1's rmse: 1.0582\n",
      "Early stopping, best iteration is:\n",
      "[1571]\ttraining's rmse: 0.735901\tvalid_1's rmse: 1.05681\n",
      "Training until validation scores don't improve for 500 rounds.\n",
      "[1000]\ttraining's rmse: 0.823293\tvalid_1's rmse: 1.04268\n",
      "[2000]\ttraining's rmse: 0.698345\tvalid_1's rmse: 1.04245\n",
      "Early stopping, best iteration is:\n",
      "[1684]\ttraining's rmse: 0.729734\tvalid_1's rmse: 1.04189\n",
      "Training until validation scores don't improve for 500 rounds.\n",
      "[1000]\ttraining's rmse: 0.819607\tvalid_1's rmse: 1.03831\n",
      "Early stopping, best iteration is:\n",
      "[1495]\ttraining's rmse: 0.748549\tvalid_1's rmse: 1.03638\n",
      "Training until validation scores don't improve for 500 rounds.\n",
      "[1000]\ttraining's rmse: 0.822908\tvalid_1's rmse: 1.04211\n",
      "Early stopping, best iteration is:\n",
      "[1419]\ttraining's rmse: 0.761088\tvalid_1's rmse: 1.04049\n",
      "Training until validation scores don't improve for 500 rounds.\n",
      "[1000]\ttraining's rmse: 0.822491\tvalid_1's rmse: 1.03242\n",
      "[2000]\ttraining's rmse: 0.696145\tvalid_1's rmse: 1.03125\n",
      "Early stopping, best iteration is:\n",
      "[1571]\ttraining's rmse: 0.741034\tvalid_1's rmse: 1.03024\n",
      "| \u001b[95m 7       \u001b[0m | \u001b[95m 0.4429  \u001b[0m | \u001b[95m 0.6593  \u001b[0m | \u001b[95m 1.512   \u001b[0m | \u001b[95m 0.7786  \u001b[0m | \u001b[95m 2.229   \u001b[0m | \u001b[95m 30.36   \u001b[0m | \u001b[95m 7.034   \u001b[0m | \u001b[95m 29.17   \u001b[0m | \u001b[95m 0.2002  \u001b[0m | \u001b[95m 0.7289  \u001b[0m | \u001b[95m 49.19   \u001b[0m |\n",
      "Training until validation scores don't improve for 500 rounds.\n",
      "[1000]\ttraining's rmse: 0.839924\tvalid_1's rmse: 1.05768\n",
      "Early stopping, best iteration is:\n",
      "[1031]\ttraining's rmse: 0.834763\tvalid_1's rmse: 1.05757\n",
      "Training until validation scores don't improve for 500 rounds.\n",
      "[1000]\ttraining's rmse: 0.846099\tvalid_1's rmse: 1.04081\n",
      "Early stopping, best iteration is:\n",
      "[1322]\ttraining's rmse: 0.796282\tvalid_1's rmse: 1.04022\n",
      "Training until validation scores don't improve for 500 rounds.\n",
      "[1000]\ttraining's rmse: 0.841612\tvalid_1's rmse: 1.04129\n",
      "Early stopping, best iteration is:\n",
      "[1462]\ttraining's rmse: 0.772421\tvalid_1's rmse: 1.03997\n",
      "Training until validation scores don't improve for 500 rounds.\n",
      "[1000]\ttraining's rmse: 0.843195\tvalid_1's rmse: 1.04485\n",
      "Early stopping, best iteration is:\n",
      "[1323]\ttraining's rmse: 0.793241\tvalid_1's rmse: 1.04346\n",
      "Training until validation scores don't improve for 500 rounds.\n",
      "[1000]\ttraining's rmse: 0.843944\tvalid_1's rmse: 1.03369\n",
      "[2000]\ttraining's rmse: 0.707342\tvalid_1's rmse: 1.03251\n",
      "Early stopping, best iteration is:\n",
      "[1598]\ttraining's rmse: 0.756787\tvalid_1's rmse: 1.03174\n",
      "| \u001b[0m 8       \u001b[0m | \u001b[0m 0.431   \u001b[0m | \u001b[0m 0.8289  \u001b[0m | \u001b[0m 1.096   \u001b[0m | \u001b[0m 0.672   \u001b[0m | \u001b[0m 2.596   \u001b[0m | \u001b[0m 30.05   \u001b[0m | \u001b[0m 11.84   \u001b[0m | \u001b[0m 118.4   \u001b[0m | \u001b[0m 0.1649  \u001b[0m | \u001b[0m 0.1724  \u001b[0m | \u001b[0m 45.24   \u001b[0m |\n",
      "Training until validation scores don't improve for 500 rounds.\n",
      "[1000]\ttraining's rmse: 0.592826\tvalid_1's rmse: 1.05239\n",
      "Early stopping, best iteration is:\n",
      "[1296]\ttraining's rmse: 0.522101\tvalid_1's rmse: 1.05196\n",
      "Training until validation scores don't improve for 500 rounds.\n",
      "[1000]\ttraining's rmse: 0.608209\tvalid_1's rmse: 1.03369\n",
      "Early stopping, best iteration is:\n",
      "[1130]\ttraining's rmse: 0.575584\tvalid_1's rmse: 1.03318\n",
      "Training until validation scores don't improve for 500 rounds.\n",
      "[1000]\ttraining's rmse: 0.596539\tvalid_1's rmse: 1.03422\n",
      "Early stopping, best iteration is:\n",
      "[1190]\ttraining's rmse: 0.550459\tvalid_1's rmse: 1.03308\n",
      "Training until validation scores don't improve for 500 rounds.\n",
      "[1000]\ttraining's rmse: 0.605631\tvalid_1's rmse: 1.03777\n",
      "Early stopping, best iteration is:\n",
      "[1128]\ttraining's rmse: 0.57282\tvalid_1's rmse: 1.03744\n",
      "Training until validation scores don't improve for 500 rounds.\n",
      "[1000]\ttraining's rmse: 0.595608\tvalid_1's rmse: 1.02452\n",
      "Early stopping, best iteration is:\n",
      "[1180]\ttraining's rmse: 0.549386\tvalid_1's rmse: 1.02435\n",
      "| \u001b[95m 9       \u001b[0m | \u001b[95m 0.4483  \u001b[0m | \u001b[95m 0.9213  \u001b[0m | \u001b[95m 2.11    \u001b[0m | \u001b[95m 0.6335  \u001b[0m | \u001b[95m 1.543   \u001b[0m | \u001b[95m 32.47   \u001b[0m | \u001b[95m 11.98   \u001b[0m | \u001b[95m 44.97   \u001b[0m | \u001b[95m 0.5878  \u001b[0m | \u001b[95m 0.00462 \u001b[0m | \u001b[95m 146.7   \u001b[0m |\n",
      "Training until validation scores don't improve for 500 rounds.\n",
      "[1000]\ttraining's rmse: 0.830731\tvalid_1's rmse: 1.05675\n",
      "Early stopping, best iteration is:\n",
      "[1198]\ttraining's rmse: 0.805868\tvalid_1's rmse: 1.0565\n",
      "Training until validation scores don't improve for 500 rounds.\n",
      "[1000]\ttraining's rmse: 0.839113\tvalid_1's rmse: 1.04082\n",
      "[2000]\ttraining's rmse: 0.774619\tvalid_1's rmse: 1.04067\n",
      "Early stopping, best iteration is:\n",
      "[1567]\ttraining's rmse: 0.78422\tvalid_1's rmse: 1.03956\n",
      "Training until validation scores don't improve for 500 rounds.\n",
      "[1000]\ttraining's rmse: 0.835019\tvalid_1's rmse: 1.0442\n",
      "[2000]\ttraining's rmse: 0.76516\tvalid_1's rmse: 1.03988\n",
      "Early stopping, best iteration is:\n",
      "[1780]\ttraining's rmse: 0.769417\tvalid_1's rmse: 1.03958\n",
      "Training until validation scores don't improve for 500 rounds.\n",
      "[1000]\ttraining's rmse: 0.835773\tvalid_1's rmse: 1.04107\n",
      "[2000]\ttraining's rmse: 0.762833\tvalid_1's rmse: 1.03872\n",
      "Early stopping, best iteration is:\n",
      "[1948]\ttraining's rmse: 0.766078\tvalid_1's rmse: 1.03855\n",
      "Training until validation scores don't improve for 500 rounds.\n",
      "[1000]\ttraining's rmse: 0.839194\tvalid_1's rmse: 1.03279\n",
      "Early stopping, best iteration is:\n",
      "[1007]\ttraining's rmse: 0.838356\tvalid_1's rmse: 1.03272\n",
      "| \u001b[0m 10      \u001b[0m | \u001b[0m 0.4455  \u001b[0m | \u001b[0m 0.746   \u001b[0m | \u001b[0m 48.44   \u001b[0m | \u001b[0m 0.6555  \u001b[0m | \u001b[0m 2.832   \u001b[0m | \u001b[0m 31.56   \u001b[0m | \u001b[0m 11.78   \u001b[0m | \u001b[0m 32.44   \u001b[0m | \u001b[0m 0.163   \u001b[0m | \u001b[0m 0.987   \u001b[0m | \u001b[0m 43.15   \u001b[0m |\n",
      "=================================================================================================================================================\n"
     ]
    }
   ],
   "source": [
    "import warnings\n",
    "\n",
    "print('-' * 130)\n",
    "\n",
    "with warnings.catch_warnings():\n",
    "    warnings.filterwarnings('ignore')\n",
    "    LGB_BO.maximize(init_points=init_points, n_iter=n_iter, acq='ucb', xi=0.0, alpha=1e-6)"
   ]
  },
  {
   "cell_type": "code",
   "execution_count": 32,
   "metadata": {
    "_uuid": "9b319730295246273409b4eafa1fb403275f3660"
   },
   "outputs": [
    {
     "name": "stdout",
     "output_type": "stream",
     "text": [
      "Iteration 0: \n",
      "\t{'target': 0.43587683301312247, 'params': {'bagging_fraction': 0.749816047538945, 'bagging_freq': 47.58500101408589, 'feature_fraction': 0.7195981825434216, 'lambda_l2': 1.7959754525911098, 'max_bin': 37.80093202212183, 'max_depth': 6.935967122017216, 'min_child_samples': 30.808361216819947, 'min_child_weight': 0.8661761457749352, 'min_split_gain': 0.6011150117432088, 'num_leaves': 117.88798355756501}}\n",
      "Iteration 1: \n",
      "\t{'target': 0.4352236112843866, 'params': {'bagging_fraction': 0.608233797718321, 'bagging_freq': 48.52558275593772, 'feature_fraction': 0.7497327922401266, 'lambda_l2': 0.6370173320348285, 'max_bin': 39.09124836035503, 'max_depth': 7.100427059120603, 'min_child_samples': 55.42422429595377, 'min_child_weight': 0.5247564316322378, 'min_split_gain': 0.43194501864211576, 'num_leaves': 72.03520542178461}}\n",
      "Iteration 2: \n",
      "\t{'target': 0.44261570051023996, 'params': {'bagging_fraction': 0.8447411578889518, 'bagging_freq': 7.83519917195005, 'feature_fraction': 0.5876433945605655, 'lambda_l2': 1.099085529881075, 'max_bin': 52.8034992108518, 'max_depth': 10.711055768358081, 'min_child_samples': 44.96737821583598, 'min_child_weight': 0.5142344384136116, 'min_split_gain': 0.5924145688620425, 'num_leaves': 45.109545399199746}}\n",
      "Iteration 3: \n",
      "\t{'target': 0.43334998029221156, 'params': {'bagging_fraction': 0.8430179407605753, 'bagging_freq': 9.355682060677285, 'feature_fraction': 0.5195154778955838, 'lambda_l2': 2.84665661176, 'max_bin': 78.28160165372796, 'max_depth': 10.850384088698767, 'min_child_samples': 55.46137691733707, 'min_child_weight': 0.09767211400638387, 'min_split_gain': 0.6842330265121569, 'num_leaves': 88.41677431135614}}\n",
      "Iteration 4: \n",
      "\t{'target': 0.44283618368066624, 'params': {'bagging_fraction': 0.6488152939379115, 'bagging_freq': 25.263668595452238, 'feature_fraction': 0.5103165563345655, 'lambda_l2': 2.7279612062363463, 'max_bin': 42.93899908000085, 'max_depth': 9.975133706123891, 'min_child_samples': 56.1711076089411, 'min_child_weight': 0.5200680211778108, 'min_split_gain': 0.5467102793432796, 'num_leaves': 60.33399010780798}}\n",
      "Iteration 5: \n",
      "\t{'target': 0.4399494467986341, 'params': {'bagging_fraction': 0.8731627354721045, 'bagging_freq': 1.9345648949471483, 'feature_fraction': 0.5360746460632358, 'lambda_l2': 1.3027724323571523, 'max_bin': 31.861724188851927, 'max_depth': 8.195915717189479, 'min_child_samples': 120.11672408436075, 'min_child_weight': 0.917735296016786, 'min_split_gain': 0.09953241293444737, 'num_leaves': 146.41772454793914}}\n",
      "Iteration 6: \n",
      "\t{'target': 0.4429390396221723, 'params': {'bagging_fraction': 0.6592876265564096, 'bagging_freq': 1.512464463548828, 'feature_fraction': 0.7785742811650187, 'lambda_l2': 2.229261203310949, 'max_bin': 30.363912920586106, 'max_depth': 7.03415359389883, 'min_child_samples': 29.170495999663103, 'min_child_weight': 0.20022396250374874, 'min_split_gain': 0.7288820008033241, 'num_leaves': 49.185644034202}}\n",
      "Iteration 7: \n",
      "\t{'target': 0.4310012971629785, 'params': {'bagging_fraction': 0.8289130955713027, 'bagging_freq': 1.096498282196485, 'feature_fraction': 0.671988992317705, 'lambda_l2': 2.5963085202701492, 'max_bin': 30.046813841707177, 'max_depth': 11.843575265612756, 'min_child_samples': 118.42031931205644, 'min_child_weight': 0.16494933240481613, 'min_split_gain': 0.17242361501531622, 'num_leaves': 45.24175902177754}}\n",
      "Iteration 8: \n",
      "\t{'target': 0.4482559335984061, 'params': {'bagging_fraction': 0.9212945843023237, 'bagging_freq': 2.1100859370529492, 'feature_fraction': 0.6334740217238963, 'lambda_l2': 1.543309192604612, 'max_bin': 32.46977068537903, 'max_depth': 11.982021953762485, 'min_child_samples': 44.96596724925662, 'min_child_weight': 0.5878240657385082, 'min_split_gain': 0.004619759404679957, 'num_leaves': 146.73598418222304}}\n",
      "Iteration 9: \n",
      "\t{'target': 0.44552546924250525, 'params': {'bagging_fraction': 0.746039371215625, 'bagging_freq': 48.44034836387829, 'feature_fraction': 0.6555499456372696, 'lambda_l2': 2.8319520151376216, 'max_bin': 31.563384649447126, 'max_depth': 11.781140269773923, 'min_child_samples': 32.442738007857926, 'min_child_weight': 0.16298327442069127, 'min_split_gain': 0.9870464243937904, 'num_leaves': 43.15483026287819}}\n"
     ]
    }
   ],
   "source": [
    "for i, res in enumerate(LGB_BO.res):\n",
    "    print(\"Iteration {}: \\n\\t{}\".format(i, res))"
   ]
  },
  {
   "cell_type": "code",
   "execution_count": 33,
   "metadata": {
    "_uuid": "60a068a758e39068b47ea402efd2511572af0d4d"
   },
   "outputs": [
    {
     "data": {
      "text/plain": [
       "{'bagging_fraction': 0.9212945843023237,\n",
       " 'bagging_freq': 2.1100859370529492,\n",
       " 'feature_fraction': 0.6334740217238963,\n",
       " 'lambda_l2': 1.543309192604612,\n",
       " 'max_bin': 32.46977068537903,\n",
       " 'max_depth': 11.982021953762485,\n",
       " 'min_child_samples': 44.96596724925662,\n",
       " 'min_child_weight': 0.5878240657385082,\n",
       " 'min_split_gain': 0.004619759404679957,\n",
       " 'num_leaves': 146.73598418222304}"
      ]
     },
     "execution_count": 33,
     "metadata": {},
     "output_type": "execute_result"
    }
   ],
   "source": [
    "LGB_BO.max['params']"
   ]
  },
  {
   "cell_type": "code",
   "execution_count": 34,
   "metadata": {
    "_uuid": "fa92a78b91d80b6f7f5c7301d55c76e096cd7480"
   },
   "outputs": [
    {
     "data": {
      "text/plain": [
       "0.4482559335984061"
      ]
     },
     "execution_count": 34,
     "metadata": {},
     "output_type": "execute_result"
    }
   ],
   "source": [
    "LGB_BO.max['target']"
   ]
  },
  {
   "cell_type": "markdown",
   "metadata": {
    "_uuid": "93e838370c71bfc1df3fed93961b8b07bd40d4da"
   },
   "source": [
    "We can see our best paremeters can get a 0.4482 QWK, a little impovement of the original kernel (0.4430) \n",
    "\n",
    "Now go back to the original kernel."
   ]
  },
  {
   "cell_type": "code",
   "execution_count": 35,
   "metadata": {
    "_uuid": "af567e8fd28c1ce85578d21427e9c5936ad8e2e0"
   },
   "outputs": [],
   "source": [
    "params = {'application': 'regression',\n",
    "          'boosting': 'gbdt', \n",
    "          'metric': 'rmse', \n",
    "          'num_leaves': int(LGB_BO.max['params']['num_leaves']), \n",
    "          'max_depth': int(LGB_BO.max['params']['max_depth']), \n",
    "          'max_bin': int(LGB_BO.max['params']['max_bin']), \n",
    "          'bagging_fraction': LGB_BO.max['params']['bagging_fraction'], \n",
    "          'bagging_freq': int(LGB_BO.max['params']['bagging_freq']), \n",
    "          'feature_fraction': LGB_BO.max['params']['feature_fraction'], \n",
    "          'min_split_gain': LGB_BO.max['params']['min_split_gain'], \n",
    "          'min_child_samples': int(LGB_BO.max['params']['min_child_samples']), \n",
    "          'min_child_weight': LGB_BO.max['params']['min_child_weight'], \n",
    "          'lambda_l2': LGB_BO.max['params']['lambda_l2'], \n",
    "          'learning_rate': 0.01,\n",
    "          'verbosity': -1, \n",
    "          'data_random_seed': 17}"
   ]
  },
  {
   "cell_type": "code",
   "execution_count": 36,
   "metadata": {
    "_uuid": "58ab4de93b0345c8c251e81f7de173de375a7953",
    "scrolled": false
   },
   "outputs": [
    {
     "name": "stdout",
     "output_type": "stream",
     "text": [
      "\n",
      "y_tr distribution: Counter({4.0: 3357, 2.0: 3229, 3.0: 2607, 1.0: 2472, 0.0: 328})\n",
      "training LGB:\n",
      "Training until validation scores don't improve for 500 rounds.\n",
      "[1000]\ttraining's rmse: 0.595319\tvalid_1's rmse: 1.03291\n",
      "[2000]\ttraining's rmse: 0.395471\tvalid_1's rmse: 1.03178\n",
      "Early stopping, best iteration is:\n",
      "[1735]\ttraining's rmse: 0.43958\tvalid_1's rmse: 1.03102\n",
      "\n",
      "y_tr distribution: Counter({4.0: 3357, 2.0: 3229, 3.0: 2607, 1.0: 2472, 0.0: 328})\n",
      "training LGB:\n",
      "Training until validation scores don't improve for 500 rounds.\n",
      "[1000]\ttraining's rmse: 0.602237\tvalid_1's rmse: 1.04366\n",
      "Early stopping, best iteration is:\n",
      "[1151]\ttraining's rmse: 0.565599\tvalid_1's rmse: 1.04324\n",
      "\n",
      "y_tr distribution: Counter({4.0: 3358, 2.0: 3230, 3.0: 2607, 1.0: 2472, 0.0: 328})\n",
      "training LGB:\n",
      "Training until validation scores don't improve for 500 rounds.\n",
      "[1000]\ttraining's rmse: 0.604791\tvalid_1's rmse: 1.03205\n",
      "Early stopping, best iteration is:\n",
      "[872]\ttraining's rmse: 0.638143\tvalid_1's rmse: 1.03165\n",
      "\n",
      "y_tr distribution: Counter({4.0: 3358, 2.0: 3230, 3.0: 2607, 1.0: 2472, 0.0: 328})\n",
      "training LGB:\n",
      "Training until validation scores don't improve for 500 rounds.\n",
      "[1000]\ttraining's rmse: 0.604762\tvalid_1's rmse: 1.03434\n",
      "Early stopping, best iteration is:\n",
      "[1428]\ttraining's rmse: 0.503994\tvalid_1's rmse: 1.03364\n",
      "\n",
      "y_tr distribution: Counter({4.0: 3358, 2.0: 3230, 3.0: 2608, 1.0: 2472, 0.0: 328})\n",
      "training LGB:\n",
      "Training until validation scores don't improve for 500 rounds.\n",
      "[1000]\ttraining's rmse: 0.600742\tvalid_1's rmse: 1.03725\n",
      "Early stopping, best iteration is:\n",
      "[1358]\ttraining's rmse: 0.516324\tvalid_1's rmse: 1.03654\n"
     ]
    }
   ],
   "source": [
    "kfold = StratifiedKFold(n_splits=n_splits, random_state=42)\n",
    "\n",
    "\n",
    "oof_train = np.zeros((X_train.shape[0]))\n",
    "oof_test = np.zeros((X_test.shape[0], n_splits))\n",
    "\n",
    "\n",
    "i = 0\n",
    "for train_index, valid_index in kfold.split(X_train, X_train['AdoptionSpeed'].values):\n",
    "    \n",
    "    X_tr = X_train.iloc[train_index, :]\n",
    "    X_val = X_train.iloc[valid_index, :]\n",
    "    \n",
    "    y_tr = X_tr['AdoptionSpeed'].values\n",
    "    X_tr = X_tr.drop(['AdoptionSpeed'], axis=1)\n",
    "    \n",
    "    y_val = X_val['AdoptionSpeed'].values\n",
    "    X_val = X_val.drop(['AdoptionSpeed'], axis=1)\n",
    "    \n",
    "    print('\\ny_tr distribution: {}'.format(Counter(y_tr)))\n",
    "    \n",
    "    d_train = lgb.Dataset(X_tr, label=y_tr)\n",
    "    d_valid = lgb.Dataset(X_val, label=y_val)\n",
    "    watchlist = [d_train, d_valid]\n",
    "    \n",
    "    print('training LGB:')\n",
    "    model = lgb.train(params,\n",
    "                      train_set=d_train,\n",
    "                      num_boost_round=num_rounds,\n",
    "                      valid_sets=watchlist,\n",
    "                      verbose_eval=verbose_eval,\n",
    "                      early_stopping_rounds=early_stop)\n",
    "    \n",
    "    val_pred = model.predict(X_val, num_iteration=model.best_iteration)\n",
    "    test_pred = model.predict(X_test, num_iteration=model.best_iteration)\n",
    "    \n",
    "    oof_train[valid_index] = val_pred\n",
    "    oof_test[:, i] = test_pred\n",
    "    \n",
    "    i += 1"
   ]
  },
  {
   "cell_type": "code",
   "execution_count": 37,
   "metadata": {
    "_uuid": "6d645345cb8ab39676376d10f6ce5aa0bc58d369"
   },
   "outputs": [
    {
     "data": {
      "text/plain": [
       "(array([  10.,   15.,  206., 1467., 3555., 3936., 3107., 1908.,  694.,\n",
       "          95.]),\n",
       " array([0.20302405, 0.61243029, 1.02183652, 1.43124275, 1.84064898,\n",
       "        2.25005521, 2.65946144, 3.06886767, 3.47827391, 3.88768014,\n",
       "        4.29708637]),\n",
       " <a list of 10 Patch objects>)"
      ]
     },
     "execution_count": 37,
     "metadata": {},
     "output_type": "execute_result"
    },
    {
     "data": {
      "image/png": "[encoded data removed]",
      "text/plain": [
       "<Figure size 864x648 with 1 Axes>"
      ]
     },
     "metadata": {},
     "output_type": "display_data"
    }
   ],
   "source": [
    "plt.hist(oof_train)"
   ]
  },
  {
   "cell_type": "markdown",
   "metadata": {
    "_uuid": "18b9db420430b00b0a466cbde7b662ada81a95cd"
   },
   "source": [
    "### adapted from: https://www.kaggle.com/myltykritik/simple-lgbm-image-features"
   ]
  },
  {
   "cell_type": "code",
   "execution_count": 38,
   "metadata": {
    "_uuid": "476da82fb0a09d8ae23afb03859e05b70a87b44d"
   },
   "outputs": [
    {
     "name": "stdout",
     "output_type": "stream",
     "text": [
      "\n",
      "Valid Counts =  Counter({4.0: 4197, 2.0: 4037, 3.0: 3259, 1.0: 3090, 0.0: 410})\n",
      "Predicted Counts =  Counter({2.0: 4895, 4.0: 3924, 1.0: 3113, 3.0: 3052, 0.0: 9})\n",
      "Coefficients =  [0.50552495 2.02449882 2.53708566 2.8853427 ]\n",
      "QWK =  0.4547412416851887\n"
     ]
    }
   ],
   "source": [
    "# Compute QWK based on OOF train predictions:\n",
    "optR = OptimizedRounder()\n",
    "optR.fit(oof_train, X_train['AdoptionSpeed'].values)\n",
    "coefficients = optR.coefficients()\n",
    "pred_test_y_k = optR.predict(oof_train, coefficients)\n",
    "print(\"\\nValid Counts = \", Counter(X_train['AdoptionSpeed'].values))\n",
    "print(\"Predicted Counts = \", Counter(pred_test_y_k))\n",
    "print(\"Coefficients = \", coefficients)\n",
    "qwk = quadratic_weighted_kappa(X_train['AdoptionSpeed'].values, pred_test_y_k)\n",
    "print(\"QWK = \", qwk)"
   ]
  },
  {
   "cell_type": "code",
   "execution_count": 39,
   "metadata": {
    "_uuid": "d2ccebb74d117385e00ab3d0a0df008f2c430b82"
   },
   "outputs": [
    {
     "name": "stdout",
     "output_type": "stream",
     "text": [
      "train pred distribution: Counter({4: 4261, 2: 4078, 1: 3221, 3: 2715, 0: 718})\n",
      "test pred distribution: Counter({4.0: 1178, 2.0: 1080, 1.0: 879, 3.0: 674, 0.0: 137})\n"
     ]
    }
   ],
   "source": [
    "# Manually adjusted coefficients:\n",
    "\n",
    "coefficients_ = coefficients.copy()\n",
    "\n",
    "coefficients_[0] = 1.645\n",
    "coefficients_[1] = 2.115\n",
    "coefficients_[3] = 2.84\n",
    "\n",
    "train_predictions = optR.predict(oof_train, coefficients_).astype(int)\n",
    "print('train pred distribution: {}'.format(Counter(train_predictions)))\n",
    "\n",
    "test_predictions = optR.predict(oof_test.mean(axis=1), coefficients_)\n",
    "print('test pred distribution: {}'.format(Counter(test_predictions)))"
   ]
  },
  {
   "cell_type": "code",
   "execution_count": 40,
   "metadata": {
    "_uuid": "03ded9b8f81d756c3dc128d0d9a517d36a30c073",
    "scrolled": false
   },
   "outputs": [
    {
     "name": "stdout",
     "output_type": "stream",
     "text": [
      "True Distribution:\n",
      "0.0    0.027346\n",
      "1.0    0.206096\n",
      "2.0    0.269259\n",
      "3.0    0.217368\n",
      "4.0    0.279931\n",
      "Name: AdoptionSpeed, dtype: float64\n",
      "\n",
      "Train Predicted Distribution:\n",
      "0    0.047889\n",
      "1    0.214834\n",
      "2    0.271994\n",
      "3    0.181085\n",
      "4    0.284199\n",
      "dtype: float64\n",
      "\n",
      "Test Predicted Distribution:\n",
      "0.0    0.034701\n",
      "1.0    0.222644\n",
      "2.0    0.273556\n",
      "3.0    0.170719\n",
      "4.0    0.298379\n",
      "dtype: float64\n"
     ]
    }
   ],
   "source": [
    "# Distribution inspection of original target and predicted train and test:\n",
    "\n",
    "print(\"True Distribution:\")\n",
    "print(pd.value_counts(X_train['AdoptionSpeed'], normalize=True).sort_index())\n",
    "print(\"\\nTrain Predicted Distribution:\")\n",
    "print(pd.value_counts(train_predictions, normalize=True).sort_index())\n",
    "print(\"\\nTest Predicted Distribution:\")\n",
    "print(pd.value_counts(test_predictions, normalize=True).sort_index())"
   ]
  },
  {
   "cell_type": "code",
   "execution_count": 41,
   "metadata": {
    "_uuid": "49f62f5776c7f47f561541a928231d750d09d3ce"
   },
   "outputs": [],
   "source": [
    "# Generate submission:\n",
    "\n",
    "submission = pd.DataFrame({'PetID': test['PetID'].values, 'AdoptionSpeed': test_predictions.astype(np.int32)})\n",
    "submission.head()\n",
    "submission.to_csv('submission.csv', index=False)"
   ]
  },
  {
   "cell_type": "code",
   "execution_count": 42,
   "metadata": {
    "_uuid": "92d56fb8c4605355ff2766dd5b938fa1f07556c0"
   },
   "outputs": [
    {
     "name": "stdout",
     "output_type": "stream",
     "text": [
      "PetID,AdoptionSpeed\r\n",
      "378fcc4fc,2\r\n",
      "73c10e136,4\r\n",
      "72000c4c5,4\r\n",
      "e147a4b9f,4\r\n",
      "43fbba852,4\r\n",
      "77a490ec9,3\r\n",
      "28c4b1b13,4\r\n",
      "d1eada628,4\r\n",
      "d134dec34,3\r\n"
     ]
    }
   ],
   "source": [
    "!head submission.csv"
   ]
  },
  {
   "cell_type": "code",
   "execution_count": 43,
   "metadata": {
    "_uuid": "729033189c114171d4beca3541c026fa352c6ff9"
   },
   "outputs": [],
   "source": []
  }
 ],
 "metadata": {
  "kernelspec": {
   "display_name": "Python 3",
   "language": "python",
   "name": "python3"
  },
  "language_info": {
   "codemirror_mode": {
    "name": "ipython",
    "version": 3
   },
   "file_extension": ".py",
   "mimetype": "text/x-python",
   "name": "python",
   "nbconvert_exporter": "python",
   "pygments_lexer": "ipython3",
   "version": "3.6.6"
  }
 },
 "nbformat": 4,
 "nbformat_minor": 1
}
