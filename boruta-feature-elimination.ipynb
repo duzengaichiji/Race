{
 "cells": [
  {
   "cell_type": "markdown",
   "metadata": {},
   "source": [
    "This is feature elimination based on **[Boruta](https://m2.icm.edu.pl/boruta/)**. Thanks to **[@olivier](https://www.kaggle.com/ogrellier)** for **[discussions](https://www.kaggle.com/c/porto-seguro-safe-driver-prediction/discussion/41595#233852)** and for **[this notebook](https://www.kaggle.com/ogrellier/noise-analysis-of-porto-seguro-s-features)** that got me going in this direction.\n",
    "\n",
    "Note that olivier used LightGBM as his **[base estimator](https://www.kaggle.com/c/porto-seguro-safe-driver-prediction/discussion/41595#234273)** while I am using Random Forest. Because of that, the results are different. I have no way of telling which feature selection is better as I haven't tested either one yet. If you do test them, please leave a note here. I will do the same."
   ]
  },
  {
   "cell_type": "code",
   "execution_count": 1,
   "metadata": {
    "_cell_guid": "524b2ce3-1454-43db-b022-3da107320a70",
    "_uuid": "134f913c46ed9330d667fe844e7015cd8c24059a",
    "collapsed": true
   },
   "outputs": [],
   "source": [
    "from __future__ import print_function\n",
    "\n",
    "import pandas as pd\n",
    "import numpy as np\n",
    "from datetime import datetime\n",
    "from sklearn.ensemble import RandomForestClassifier\n",
    "from boruta import BorutaPy\n",
    "\n",
    "pd.set_option('display.max_rows', 1000)\n",
    "pd.set_option('display.max_columns', 1000)\n",
    "\n",
    "def timer(start_time=None):\n",
    "    if not start_time:\n",
    "        start_time = datetime.now()\n",
    "        return start_time\n",
    "    elif start_time:\n",
    "        thour, temp_sec = divmod((datetime.now() - start_time).total_seconds(), 3600)\n",
    "        tmin, tsec = divmod(temp_sec, 60)\n",
    "        print('\\n Time taken: %i hours %i minutes and %s seconds.' % (thour, tmin, round(tsec, 2)))"
   ]
  },
  {
   "cell_type": "markdown",
   "metadata": {
    "_cell_guid": "175c8476-e632-40af-a528-dc62908fbf92",
    "_uuid": "681a453844ecbc0ce36992aa1ed83cce739fc56a"
   },
   "source": [
    "Loading files."
   ]
  },
  {
   "cell_type": "code",
   "execution_count": 2,
   "metadata": {
    "_cell_guid": "7b35b99d-91b1-4e69-95b7-5a98cf911445",
    "_uuid": "e2f0ab2ca2c63557d0455f3ffc61cb1930995f8e",
    "collapsed": true
   },
   "outputs": [],
   "source": [
    "train = pd.read_csv('../input/train.csv', dtype={'target': np.int8, 'id': np.int32})\n",
    "X = train.drop(['id','target'], axis=1).values\n",
    "y = train['target'].values\n",
    "tr_ids = train['id'].values\n",
    "n_train = len(X)\n",
    "test = pd.read_csv('../input/test.csv', dtype={'id': np.int32})\n",
    "X_test = test.drop(['id'], axis=1).values\n",
    "te_ids = test['id'].values"
   ]
  },
  {
   "cell_type": "markdown",
   "metadata": {
    "_cell_guid": "8a01bb11-753b-47b7-8b6c-eabe8e87a9f4",
    "_uuid": "e1490b1f7abb55259cb7c0c3ad71cebe2ae46f49"
   },
   "source": [
    "It is worth playing with **[RFC parameters](http://scikit-learn.org/stable/modules/generated/sklearn.ensemble.RandomForestClassifier.html)**. Initially, I had *n_estimators=100* and *max_depth=10* which was not selecting enough features. Boruta parameters are explained **[here](https://github.com/scikit-learn-contrib/boruta_py)**."
   ]
  },
  {
   "cell_type": "code",
   "execution_count": 3,
   "metadata": {
    "_cell_guid": "79a24d6c-4215-4135-9b11-4d312af6daf9",
    "_uuid": "89347b7e8f8f3ceca68bcbe026a8a2a413d43ba1"
   },
   "outputs": [
    {
     "name": "stdout",
     "output_type": "stream",
     "text": [
      "Iteration: \t1 / 100\n",
      "Confirmed: \t0\n",
      "Tentative: \t57\n",
      "Rejected: \t0\n",
      "Iteration: \t2 / 100\n",
      "Confirmed: \t0\n",
      "Tentative: \t57\n",
      "Rejected: \t0\n",
      "Iteration: \t3 / 100\n",
      "Confirmed: \t0\n",
      "Tentative: \t57\n",
      "Rejected: \t0\n",
      "Iteration: \t4 / 100\n",
      "Confirmed: \t0\n",
      "Tentative: \t57\n",
      "Rejected: \t0\n",
      "Iteration: \t5 / 100\n",
      "Confirmed: \t0\n",
      "Tentative: \t57\n",
      "Rejected: \t0\n",
      "Iteration: \t6 / 100\n",
      "Confirmed: \t0\n",
      "Tentative: \t57\n",
      "Rejected: \t0\n",
      "Iteration: \t7 / 100\n",
      "Confirmed: \t0\n",
      "Tentative: \t57\n",
      "Rejected: \t0\n",
      "Iteration: \t8 / 100\n",
      "Confirmed: \t24\n",
      "Tentative: \t3\n",
      "Rejected: \t30\n"
     ]
    },
    {
     "name": "stderr",
     "output_type": "stream",
     "text": [
      "/opt/conda/lib/python3.6/site-packages/Boruta-0.1.5-py3.6.egg/boruta/boruta_py.py:418: RuntimeWarning: invalid value encountered in greater\n"
     ]
    },
    {
     "name": "stdout",
     "output_type": "stream",
     "text": [
      "Iteration: \t9 / 100\n",
      "Confirmed: \t24\n",
      "Tentative: \t3\n",
      "Rejected: \t30\n"
     ]
    },
    {
     "name": "stderr",
     "output_type": "stream",
     "text": [
      "/opt/conda/lib/python3.6/site-packages/Boruta-0.1.5-py3.6.egg/boruta/boruta_py.py:418: RuntimeWarning: invalid value encountered in greater\n"
     ]
    },
    {
     "name": "stdout",
     "output_type": "stream",
     "text": [
      "Iteration: \t10 / 100\n",
      "Confirmed: \t24\n",
      "Tentative: \t3\n",
      "Rejected: \t30\n"
     ]
    },
    {
     "name": "stderr",
     "output_type": "stream",
     "text": [
      "/opt/conda/lib/python3.6/site-packages/Boruta-0.1.5-py3.6.egg/boruta/boruta_py.py:418: RuntimeWarning: invalid value encountered in greater\n"
     ]
    },
    {
     "name": "stdout",
     "output_type": "stream",
     "text": [
      "Iteration: \t11 / 100\n",
      "Confirmed: \t24\n",
      "Tentative: \t3\n",
      "Rejected: \t30\n"
     ]
    },
    {
     "name": "stderr",
     "output_type": "stream",
     "text": [
      "/opt/conda/lib/python3.6/site-packages/Boruta-0.1.5-py3.6.egg/boruta/boruta_py.py:418: RuntimeWarning: invalid value encountered in greater\n"
     ]
    },
    {
     "name": "stdout",
     "output_type": "stream",
     "text": [
      "Iteration: \t12 / 100\n",
      "Confirmed: \t24\n",
      "Tentative: \t3\n",
      "Rejected: \t30\n"
     ]
    },
    {
     "name": "stderr",
     "output_type": "stream",
     "text": [
      "/opt/conda/lib/python3.6/site-packages/Boruta-0.1.5-py3.6.egg/boruta/boruta_py.py:418: RuntimeWarning: invalid value encountered in greater\n"
     ]
    },
    {
     "name": "stdout",
     "output_type": "stream",
     "text": [
      "Iteration: \t13 / 100\n",
      "Confirmed: \t24\n",
      "Tentative: \t3\n",
      "Rejected: \t30\n"
     ]
    },
    {
     "name": "stderr",
     "output_type": "stream",
     "text": [
      "/opt/conda/lib/python3.6/site-packages/Boruta-0.1.5-py3.6.egg/boruta/boruta_py.py:418: RuntimeWarning: invalid value encountered in greater\n"
     ]
    },
    {
     "name": "stdout",
     "output_type": "stream",
     "text": [
      "Iteration: \t14 / 100\n",
      "Confirmed: \t24\n",
      "Tentative: \t3\n",
      "Rejected: \t30\n"
     ]
    },
    {
     "name": "stderr",
     "output_type": "stream",
     "text": [
      "/opt/conda/lib/python3.6/site-packages/Boruta-0.1.5-py3.6.egg/boruta/boruta_py.py:418: RuntimeWarning: invalid value encountered in greater\n"
     ]
    },
    {
     "name": "stdout",
     "output_type": "stream",
     "text": [
      "Iteration: \t15 / 100\n",
      "Confirmed: \t24\n",
      "Tentative: \t3\n",
      "Rejected: \t30\n"
     ]
    },
    {
     "name": "stderr",
     "output_type": "stream",
     "text": [
      "/opt/conda/lib/python3.6/site-packages/Boruta-0.1.5-py3.6.egg/boruta/boruta_py.py:418: RuntimeWarning: invalid value encountered in greater\n"
     ]
    },
    {
     "name": "stdout",
     "output_type": "stream",
     "text": [
      "Iteration: \t16 / 100\n",
      "Confirmed: \t24\n",
      "Tentative: \t3\n",
      "Rejected: \t30\n"
     ]
    },
    {
     "name": "stderr",
     "output_type": "stream",
     "text": [
      "/opt/conda/lib/python3.6/site-packages/Boruta-0.1.5-py3.6.egg/boruta/boruta_py.py:418: RuntimeWarning: invalid value encountered in greater\n"
     ]
    },
    {
     "name": "stdout",
     "output_type": "stream",
     "text": [
      "Iteration: \t17 / 100\n",
      "Confirmed: \t24\n",
      "Tentative: \t3\n",
      "Rejected: \t30\n"
     ]
    },
    {
     "name": "stderr",
     "output_type": "stream",
     "text": [
      "/opt/conda/lib/python3.6/site-packages/Boruta-0.1.5-py3.6.egg/boruta/boruta_py.py:418: RuntimeWarning: invalid value encountered in greater\n"
     ]
    },
    {
     "name": "stdout",
     "output_type": "stream",
     "text": [
      "Iteration: \t18 / 100\n",
      "Confirmed: \t24\n",
      "Tentative: \t3\n",
      "Rejected: \t30\n"
     ]
    },
    {
     "name": "stderr",
     "output_type": "stream",
     "text": [
      "/opt/conda/lib/python3.6/site-packages/Boruta-0.1.5-py3.6.egg/boruta/boruta_py.py:418: RuntimeWarning: invalid value encountered in greater\n"
     ]
    },
    {
     "name": "stdout",
     "output_type": "stream",
     "text": [
      "Iteration: \t19 / 100\n",
      "Confirmed: \t24\n",
      "Tentative: \t3\n",
      "Rejected: \t30\n"
     ]
    },
    {
     "name": "stderr",
     "output_type": "stream",
     "text": [
      "/opt/conda/lib/python3.6/site-packages/Boruta-0.1.5-py3.6.egg/boruta/boruta_py.py:418: RuntimeWarning: invalid value encountered in greater\n"
     ]
    },
    {
     "name": "stdout",
     "output_type": "stream",
     "text": [
      "Iteration: \t20 / 100\n",
      "Confirmed: \t24\n",
      "Tentative: \t2\n",
      "Rejected: \t31\n"
     ]
    },
    {
     "name": "stderr",
     "output_type": "stream",
     "text": [
      "/opt/conda/lib/python3.6/site-packages/Boruta-0.1.5-py3.6.egg/boruta/boruta_py.py:418: RuntimeWarning: invalid value encountered in greater\n"
     ]
    },
    {
     "name": "stdout",
     "output_type": "stream",
     "text": [
      "Iteration: \t21 / 100\n",
      "Confirmed: \t24\n",
      "Tentative: \t2\n",
      "Rejected: \t31\n"
     ]
    },
    {
     "name": "stderr",
     "output_type": "stream",
     "text": [
      "/opt/conda/lib/python3.6/site-packages/Boruta-0.1.5-py3.6.egg/boruta/boruta_py.py:418: RuntimeWarning: invalid value encountered in greater\n"
     ]
    },
    {
     "name": "stdout",
     "output_type": "stream",
     "text": [
      "Iteration: \t22 / 100\n",
      "Confirmed: \t24\n",
      "Tentative: \t2\n",
      "Rejected: \t31\n"
     ]
    },
    {
     "name": "stderr",
     "output_type": "stream",
     "text": [
      "/opt/conda/lib/python3.6/site-packages/Boruta-0.1.5-py3.6.egg/boruta/boruta_py.py:418: RuntimeWarning: invalid value encountered in greater\n"
     ]
    },
    {
     "name": "stdout",
     "output_type": "stream",
     "text": [
      "Iteration: \t23 / 100\n",
      "Confirmed: \t24\n",
      "Tentative: \t2\n",
      "Rejected: \t31\n"
     ]
    },
    {
     "name": "stderr",
     "output_type": "stream",
     "text": [
      "/opt/conda/lib/python3.6/site-packages/Boruta-0.1.5-py3.6.egg/boruta/boruta_py.py:418: RuntimeWarning: invalid value encountered in greater\n"
     ]
    },
    {
     "name": "stdout",
     "output_type": "stream",
     "text": [
      "Iteration: \t24 / 100\n",
      "Confirmed: \t24\n",
      "Tentative: \t2\n",
      "Rejected: \t31\n"
     ]
    },
    {
     "name": "stderr",
     "output_type": "stream",
     "text": [
      "/opt/conda/lib/python3.6/site-packages/Boruta-0.1.5-py3.6.egg/boruta/boruta_py.py:418: RuntimeWarning: invalid value encountered in greater\n"
     ]
    },
    {
     "name": "stdout",
     "output_type": "stream",
     "text": [
      "Iteration: \t25 / 100\n",
      "Confirmed: \t24\n",
      "Tentative: \t2\n",
      "Rejected: \t31\n"
     ]
    },
    {
     "name": "stderr",
     "output_type": "stream",
     "text": [
      "/opt/conda/lib/python3.6/site-packages/Boruta-0.1.5-py3.6.egg/boruta/boruta_py.py:418: RuntimeWarning: invalid value encountered in greater\n"
     ]
    },
    {
     "name": "stdout",
     "output_type": "stream",
     "text": [
      "Iteration: \t26 / 100\n",
      "Confirmed: \t24\n",
      "Tentative: \t2\n",
      "Rejected: \t31\n"
     ]
    },
    {
     "name": "stderr",
     "output_type": "stream",
     "text": [
      "/opt/conda/lib/python3.6/site-packages/Boruta-0.1.5-py3.6.egg/boruta/boruta_py.py:418: RuntimeWarning: invalid value encountered in greater\n"
     ]
    },
    {
     "name": "stdout",
     "output_type": "stream",
     "text": [
      "Iteration: \t27 / 100\n",
      "Confirmed: \t24\n",
      "Tentative: \t2\n",
      "Rejected: \t31\n"
     ]
    },
    {
     "name": "stderr",
     "output_type": "stream",
     "text": [
      "/opt/conda/lib/python3.6/site-packages/Boruta-0.1.5-py3.6.egg/boruta/boruta_py.py:418: RuntimeWarning: invalid value encountered in greater\n"
     ]
    },
    {
     "name": "stdout",
     "output_type": "stream",
     "text": [
      "Iteration: \t28 / 100\n",
      "Confirmed: \t24\n",
      "Tentative: \t2\n",
      "Rejected: \t31\n"
     ]
    },
    {
     "name": "stderr",
     "output_type": "stream",
     "text": [
      "/opt/conda/lib/python3.6/site-packages/Boruta-0.1.5-py3.6.egg/boruta/boruta_py.py:418: RuntimeWarning: invalid value encountered in greater\n"
     ]
    },
    {
     "name": "stdout",
     "output_type": "stream",
     "text": [
      "Iteration: \t29 / 100\n",
      "Confirmed: \t24\n",
      "Tentative: \t2\n",
      "Rejected: \t31\n"
     ]
    },
    {
     "name": "stderr",
     "output_type": "stream",
     "text": [
      "/opt/conda/lib/python3.6/site-packages/Boruta-0.1.5-py3.6.egg/boruta/boruta_py.py:418: RuntimeWarning: invalid value encountered in greater\n"
     ]
    },
    {
     "name": "stdout",
     "output_type": "stream",
     "text": [
      "Iteration: \t30 / 100\n",
      "Confirmed: \t24\n",
      "Tentative: \t2\n",
      "Rejected: \t31\n"
     ]
    },
    {
     "name": "stderr",
     "output_type": "stream",
     "text": [
      "/opt/conda/lib/python3.6/site-packages/Boruta-0.1.5-py3.6.egg/boruta/boruta_py.py:418: RuntimeWarning: invalid value encountered in greater\n"
     ]
    },
    {
     "name": "stdout",
     "output_type": "stream",
     "text": [
      "Iteration: \t31 / 100\n",
      "Confirmed: \t24\n",
      "Tentative: \t2\n",
      "Rejected: \t31\n"
     ]
    },
    {
     "name": "stderr",
     "output_type": "stream",
     "text": [
      "/opt/conda/lib/python3.6/site-packages/Boruta-0.1.5-py3.6.egg/boruta/boruta_py.py:418: RuntimeWarning: invalid value encountered in greater\n"
     ]
    },
    {
     "name": "stdout",
     "output_type": "stream",
     "text": [
      "Iteration: \t32 / 100\n",
      "Confirmed: \t24\n",
      "Tentative: \t2\n",
      "Rejected: \t31\n"
     ]
    },
    {
     "name": "stderr",
     "output_type": "stream",
     "text": [
      "/opt/conda/lib/python3.6/site-packages/Boruta-0.1.5-py3.6.egg/boruta/boruta_py.py:418: RuntimeWarning: invalid value encountered in greater\n"
     ]
    },
    {
     "name": "stdout",
     "output_type": "stream",
     "text": [
      "Iteration: \t33 / 100\n",
      "Confirmed: \t24\n",
      "Tentative: \t2\n",
      "Rejected: \t31\n"
     ]
    },
    {
     "name": "stderr",
     "output_type": "stream",
     "text": [
      "/opt/conda/lib/python3.6/site-packages/Boruta-0.1.5-py3.6.egg/boruta/boruta_py.py:418: RuntimeWarning: invalid value encountered in greater\n"
     ]
    },
    {
     "name": "stdout",
     "output_type": "stream",
     "text": [
      "Iteration: \t34 / 100\n",
      "Confirmed: \t24\n",
      "Tentative: \t1\n",
      "Rejected: \t32\n"
     ]
    },
    {
     "name": "stderr",
     "output_type": "stream",
     "text": [
      "/opt/conda/lib/python3.6/site-packages/Boruta-0.1.5-py3.6.egg/boruta/boruta_py.py:418: RuntimeWarning: invalid value encountered in greater\n"
     ]
    },
    {
     "name": "stdout",
     "output_type": "stream",
     "text": [
      "Iteration: \t35 / 100\n",
      "Confirmed: \t24\n",
      "Tentative: \t1\n",
      "Rejected: \t32\n"
     ]
    },
    {
     "name": "stderr",
     "output_type": "stream",
     "text": [
      "/opt/conda/lib/python3.6/site-packages/Boruta-0.1.5-py3.6.egg/boruta/boruta_py.py:418: RuntimeWarning: invalid value encountered in greater\n"
     ]
    },
    {
     "name": "stdout",
     "output_type": "stream",
     "text": [
      "Iteration: \t36 / 100\n",
      "Confirmed: \t24\n",
      "Tentative: \t1\n",
      "Rejected: \t32\n"
     ]
    },
    {
     "name": "stderr",
     "output_type": "stream",
     "text": [
      "/opt/conda/lib/python3.6/site-packages/Boruta-0.1.5-py3.6.egg/boruta/boruta_py.py:418: RuntimeWarning: invalid value encountered in greater\n"
     ]
    },
    {
     "name": "stdout",
     "output_type": "stream",
     "text": [
      "Iteration: \t37 / 100\n",
      "Confirmed: \t24\n",
      "Tentative: \t1\n",
      "Rejected: \t32\n"
     ]
    },
    {
     "name": "stderr",
     "output_type": "stream",
     "text": [
      "/opt/conda/lib/python3.6/site-packages/Boruta-0.1.5-py3.6.egg/boruta/boruta_py.py:418: RuntimeWarning: invalid value encountered in greater\n"
     ]
    },
    {
     "name": "stdout",
     "output_type": "stream",
     "text": [
      "Iteration: \t38 / 100\n",
      "Confirmed: \t24\n",
      "Tentative: \t1\n",
      "Rejected: \t32\n"
     ]
    },
    {
     "name": "stderr",
     "output_type": "stream",
     "text": [
      "/opt/conda/lib/python3.6/site-packages/Boruta-0.1.5-py3.6.egg/boruta/boruta_py.py:418: RuntimeWarning: invalid value encountered in greater\n"
     ]
    },
    {
     "name": "stdout",
     "output_type": "stream",
     "text": [
      "Iteration: \t39 / 100\n",
      "Confirmed: \t24\n",
      "Tentative: \t1\n",
      "Rejected: \t32\n"
     ]
    },
    {
     "name": "stderr",
     "output_type": "stream",
     "text": [
      "/opt/conda/lib/python3.6/site-packages/Boruta-0.1.5-py3.6.egg/boruta/boruta_py.py:418: RuntimeWarning: invalid value encountered in greater\n"
     ]
    },
    {
     "name": "stdout",
     "output_type": "stream",
     "text": [
      "Iteration: \t40 / 100\n",
      "Confirmed: \t24\n",
      "Tentative: \t1\n",
      "Rejected: \t32\n"
     ]
    },
    {
     "name": "stderr",
     "output_type": "stream",
     "text": [
      "/opt/conda/lib/python3.6/site-packages/Boruta-0.1.5-py3.6.egg/boruta/boruta_py.py:418: RuntimeWarning: invalid value encountered in greater\n"
     ]
    },
    {
     "name": "stdout",
     "output_type": "stream",
     "text": [
      "Iteration: \t41 / 100\n",
      "Confirmed: \t24\n",
      "Tentative: \t1\n",
      "Rejected: \t32\n"
     ]
    },
    {
     "name": "stderr",
     "output_type": "stream",
     "text": [
      "/opt/conda/lib/python3.6/site-packages/Boruta-0.1.5-py3.6.egg/boruta/boruta_py.py:418: RuntimeWarning: invalid value encountered in greater\n"
     ]
    },
    {
     "name": "stdout",
     "output_type": "stream",
     "text": [
      "Iteration: \t42 / 100\n",
      "Confirmed: \t24\n",
      "Tentative: \t1\n",
      "Rejected: \t32\n"
     ]
    },
    {
     "name": "stderr",
     "output_type": "stream",
     "text": [
      "/opt/conda/lib/python3.6/site-packages/Boruta-0.1.5-py3.6.egg/boruta/boruta_py.py:418: RuntimeWarning: invalid value encountered in greater\n"
     ]
    },
    {
     "name": "stdout",
     "output_type": "stream",
     "text": [
      "Iteration: \t43 / 100\n",
      "Confirmed: \t24\n",
      "Tentative: \t1\n",
      "Rejected: \t32\n"
     ]
    },
    {
     "name": "stderr",
     "output_type": "stream",
     "text": [
      "/opt/conda/lib/python3.6/site-packages/Boruta-0.1.5-py3.6.egg/boruta/boruta_py.py:418: RuntimeWarning: invalid value encountered in greater\n"
     ]
    },
    {
     "name": "stdout",
     "output_type": "stream",
     "text": [
      "Iteration: \t44 / 100\n",
      "Confirmed: \t24\n",
      "Tentative: \t1\n",
      "Rejected: \t32\n"
     ]
    },
    {
     "name": "stderr",
     "output_type": "stream",
     "text": [
      "/opt/conda/lib/python3.6/site-packages/Boruta-0.1.5-py3.6.egg/boruta/boruta_py.py:418: RuntimeWarning: invalid value encountered in greater\n"
     ]
    },
    {
     "name": "stdout",
     "output_type": "stream",
     "text": [
      "Iteration: \t45 / 100\n",
      "Confirmed: \t24\n",
      "Tentative: \t1\n",
      "Rejected: \t32\n"
     ]
    },
    {
     "name": "stderr",
     "output_type": "stream",
     "text": [
      "/opt/conda/lib/python3.6/site-packages/Boruta-0.1.5-py3.6.egg/boruta/boruta_py.py:418: RuntimeWarning: invalid value encountered in greater\n"
     ]
    },
    {
     "name": "stdout",
     "output_type": "stream",
     "text": [
      "Iteration: \t46 / 100\n",
      "Confirmed: \t24\n",
      "Tentative: \t1\n",
      "Rejected: \t32\n"
     ]
    },
    {
     "name": "stderr",
     "output_type": "stream",
     "text": [
      "/opt/conda/lib/python3.6/site-packages/Boruta-0.1.5-py3.6.egg/boruta/boruta_py.py:418: RuntimeWarning: invalid value encountered in greater\n"
     ]
    },
    {
     "name": "stdout",
     "output_type": "stream",
     "text": [
      "Iteration: \t47 / 100\n",
      "Confirmed: \t24\n",
      "Tentative: \t1\n",
      "Rejected: \t32\n"
     ]
    },
    {
     "name": "stderr",
     "output_type": "stream",
     "text": [
      "/opt/conda/lib/python3.6/site-packages/Boruta-0.1.5-py3.6.egg/boruta/boruta_py.py:418: RuntimeWarning: invalid value encountered in greater\n"
     ]
    },
    {
     "name": "stdout",
     "output_type": "stream",
     "text": [
      "Iteration: \t48 / 100\n",
      "Confirmed: \t24\n",
      "Tentative: \t1\n",
      "Rejected: \t32\n"
     ]
    },
    {
     "name": "stderr",
     "output_type": "stream",
     "text": [
      "/opt/conda/lib/python3.6/site-packages/Boruta-0.1.5-py3.6.egg/boruta/boruta_py.py:418: RuntimeWarning: invalid value encountered in greater\n"
     ]
    },
    {
     "name": "stdout",
     "output_type": "stream",
     "text": [
      "Iteration: \t49 / 100\n",
      "Confirmed: \t24\n",
      "Tentative: \t1\n",
      "Rejected: \t32\n"
     ]
    },
    {
     "name": "stderr",
     "output_type": "stream",
     "text": [
      "/opt/conda/lib/python3.6/site-packages/Boruta-0.1.5-py3.6.egg/boruta/boruta_py.py:418: RuntimeWarning: invalid value encountered in greater\n"
     ]
    },
    {
     "name": "stdout",
     "output_type": "stream",
     "text": [
      "Iteration: \t50 / 100\n",
      "Confirmed: \t24\n",
      "Tentative: \t1\n",
      "Rejected: \t32\n"
     ]
    },
    {
     "name": "stderr",
     "output_type": "stream",
     "text": [
      "/opt/conda/lib/python3.6/site-packages/Boruta-0.1.5-py3.6.egg/boruta/boruta_py.py:418: RuntimeWarning: invalid value encountered in greater\n"
     ]
    },
    {
     "name": "stdout",
     "output_type": "stream",
     "text": [
      "Iteration: \t51 / 100\n",
      "Confirmed: \t24\n",
      "Tentative: \t1\n",
      "Rejected: \t32\n"
     ]
    },
    {
     "name": "stderr",
     "output_type": "stream",
     "text": [
      "/opt/conda/lib/python3.6/site-packages/Boruta-0.1.5-py3.6.egg/boruta/boruta_py.py:418: RuntimeWarning: invalid value encountered in greater\n"
     ]
    },
    {
     "name": "stdout",
     "output_type": "stream",
     "text": [
      "Iteration: \t52 / 100\n",
      "Confirmed: \t24\n",
      "Tentative: \t1\n",
      "Rejected: \t32\n"
     ]
    },
    {
     "name": "stderr",
     "output_type": "stream",
     "text": [
      "/opt/conda/lib/python3.6/site-packages/Boruta-0.1.5-py3.6.egg/boruta/boruta_py.py:418: RuntimeWarning: invalid value encountered in greater\n"
     ]
    },
    {
     "name": "stdout",
     "output_type": "stream",
     "text": [
      "Iteration: \t53 / 100\n",
      "Confirmed: \t24\n",
      "Tentative: \t1\n",
      "Rejected: \t32\n"
     ]
    },
    {
     "name": "stderr",
     "output_type": "stream",
     "text": [
      "/opt/conda/lib/python3.6/site-packages/Boruta-0.1.5-py3.6.egg/boruta/boruta_py.py:418: RuntimeWarning: invalid value encountered in greater\n"
     ]
    },
    {
     "name": "stdout",
     "output_type": "stream",
     "text": [
      "Iteration: \t54 / 100\n",
      "Confirmed: \t24\n",
      "Tentative: \t1\n",
      "Rejected: \t32\n"
     ]
    },
    {
     "name": "stderr",
     "output_type": "stream",
     "text": [
      "/opt/conda/lib/python3.6/site-packages/Boruta-0.1.5-py3.6.egg/boruta/boruta_py.py:418: RuntimeWarning: invalid value encountered in greater\n"
     ]
    },
    {
     "name": "stdout",
     "output_type": "stream",
     "text": [
      "Iteration: \t55 / 100\n",
      "Confirmed: \t24\n",
      "Tentative: \t1\n",
      "Rejected: \t32\n"
     ]
    },
    {
     "name": "stderr",
     "output_type": "stream",
     "text": [
      "/opt/conda/lib/python3.6/site-packages/Boruta-0.1.5-py3.6.egg/boruta/boruta_py.py:418: RuntimeWarning: invalid value encountered in greater\n"
     ]
    },
    {
     "name": "stdout",
     "output_type": "stream",
     "text": [
      "Iteration: \t56 / 100\n",
      "Confirmed: \t24\n",
      "Tentative: \t1\n",
      "Rejected: \t32\n"
     ]
    },
    {
     "name": "stderr",
     "output_type": "stream",
     "text": [
      "/opt/conda/lib/python3.6/site-packages/Boruta-0.1.5-py3.6.egg/boruta/boruta_py.py:418: RuntimeWarning: invalid value encountered in greater\n"
     ]
    },
    {
     "name": "stdout",
     "output_type": "stream",
     "text": [
      "Iteration: \t57 / 100\n",
      "Confirmed: \t24\n",
      "Tentative: \t1\n",
      "Rejected: \t32\n"
     ]
    },
    {
     "name": "stderr",
     "output_type": "stream",
     "text": [
      "/opt/conda/lib/python3.6/site-packages/Boruta-0.1.5-py3.6.egg/boruta/boruta_py.py:418: RuntimeWarning: invalid value encountered in greater\n"
     ]
    },
    {
     "name": "stdout",
     "output_type": "stream",
     "text": [
      "Iteration: \t58 / 100\n",
      "Confirmed: \t24\n",
      "Tentative: \t1\n",
      "Rejected: \t32\n"
     ]
    },
    {
     "name": "stderr",
     "output_type": "stream",
     "text": [
      "/opt/conda/lib/python3.6/site-packages/Boruta-0.1.5-py3.6.egg/boruta/boruta_py.py:418: RuntimeWarning: invalid value encountered in greater\n"
     ]
    },
    {
     "name": "stdout",
     "output_type": "stream",
     "text": [
      "Iteration: \t59 / 100\n",
      "Confirmed: \t24\n",
      "Tentative: \t1\n",
      "Rejected: \t32\n"
     ]
    },
    {
     "name": "stderr",
     "output_type": "stream",
     "text": [
      "/opt/conda/lib/python3.6/site-packages/Boruta-0.1.5-py3.6.egg/boruta/boruta_py.py:418: RuntimeWarning: invalid value encountered in greater\n"
     ]
    },
    {
     "name": "stdout",
     "output_type": "stream",
     "text": [
      "Iteration: \t60 / 100\n",
      "Confirmed: \t24\n",
      "Tentative: \t1\n",
      "Rejected: \t32\n"
     ]
    },
    {
     "name": "stderr",
     "output_type": "stream",
     "text": [
      "/opt/conda/lib/python3.6/site-packages/Boruta-0.1.5-py3.6.egg/boruta/boruta_py.py:418: RuntimeWarning: invalid value encountered in greater\n"
     ]
    },
    {
     "name": "stdout",
     "output_type": "stream",
     "text": [
      "Iteration: \t61 / 100\n",
      "Confirmed: \t24\n",
      "Tentative: \t1\n",
      "Rejected: \t32\n"
     ]
    },
    {
     "name": "stderr",
     "output_type": "stream",
     "text": [
      "/opt/conda/lib/python3.6/site-packages/Boruta-0.1.5-py3.6.egg/boruta/boruta_py.py:418: RuntimeWarning: invalid value encountered in greater\n"
     ]
    },
    {
     "name": "stdout",
     "output_type": "stream",
     "text": [
      "Iteration: \t62 / 100\n",
      "Confirmed: \t24\n",
      "Tentative: \t1\n",
      "Rejected: \t32\n"
     ]
    },
    {
     "name": "stderr",
     "output_type": "stream",
     "text": [
      "/opt/conda/lib/python3.6/site-packages/Boruta-0.1.5-py3.6.egg/boruta/boruta_py.py:418: RuntimeWarning: invalid value encountered in greater\n"
     ]
    },
    {
     "name": "stdout",
     "output_type": "stream",
     "text": [
      "Iteration: \t63 / 100\n",
      "Confirmed: \t24\n",
      "Tentative: \t1\n",
      "Rejected: \t32\n"
     ]
    },
    {
     "name": "stderr",
     "output_type": "stream",
     "text": [
      "/opt/conda/lib/python3.6/site-packages/Boruta-0.1.5-py3.6.egg/boruta/boruta_py.py:418: RuntimeWarning: invalid value encountered in greater\n"
     ]
    },
    {
     "name": "stdout",
     "output_type": "stream",
     "text": [
      "Iteration: \t64 / 100\n",
      "Confirmed: \t24\n",
      "Tentative: \t1\n",
      "Rejected: \t32\n"
     ]
    },
    {
     "name": "stderr",
     "output_type": "stream",
     "text": [
      "/opt/conda/lib/python3.6/site-packages/Boruta-0.1.5-py3.6.egg/boruta/boruta_py.py:418: RuntimeWarning: invalid value encountered in greater\n"
     ]
    },
    {
     "name": "stdout",
     "output_type": "stream",
     "text": [
      "Iteration: \t65 / 100\n",
      "Confirmed: \t24\n",
      "Tentative: \t1\n",
      "Rejected: \t32\n"
     ]
    },
    {
     "name": "stderr",
     "output_type": "stream",
     "text": [
      "/opt/conda/lib/python3.6/site-packages/Boruta-0.1.5-py3.6.egg/boruta/boruta_py.py:418: RuntimeWarning: invalid value encountered in greater\n"
     ]
    },
    {
     "name": "stdout",
     "output_type": "stream",
     "text": [
      "Iteration: \t66 / 100\n",
      "Confirmed: \t24\n",
      "Tentative: \t1\n",
      "Rejected: \t32\n"
     ]
    },
    {
     "name": "stderr",
     "output_type": "stream",
     "text": [
      "/opt/conda/lib/python3.6/site-packages/Boruta-0.1.5-py3.6.egg/boruta/boruta_py.py:418: RuntimeWarning: invalid value encountered in greater\n"
     ]
    },
    {
     "name": "stdout",
     "output_type": "stream",
     "text": [
      "Iteration: \t67 / 100\n",
      "Confirmed: \t24\n",
      "Tentative: \t1\n",
      "Rejected: \t32\n"
     ]
    },
    {
     "name": "stderr",
     "output_type": "stream",
     "text": [
      "/opt/conda/lib/python3.6/site-packages/Boruta-0.1.5-py3.6.egg/boruta/boruta_py.py:418: RuntimeWarning: invalid value encountered in greater\n"
     ]
    },
    {
     "name": "stdout",
     "output_type": "stream",
     "text": [
      "Iteration: \t68 / 100\n",
      "Confirmed: \t24\n",
      "Tentative: \t1\n",
      "Rejected: \t32\n"
     ]
    },
    {
     "name": "stderr",
     "output_type": "stream",
     "text": [
      "/opt/conda/lib/python3.6/site-packages/Boruta-0.1.5-py3.6.egg/boruta/boruta_py.py:418: RuntimeWarning: invalid value encountered in greater\n"
     ]
    },
    {
     "name": "stdout",
     "output_type": "stream",
     "text": [
      "Iteration: \t69 / 100\n",
      "Confirmed: \t24\n",
      "Tentative: \t1\n",
      "Rejected: \t32\n"
     ]
    },
    {
     "name": "stderr",
     "output_type": "stream",
     "text": [
      "/opt/conda/lib/python3.6/site-packages/Boruta-0.1.5-py3.6.egg/boruta/boruta_py.py:418: RuntimeWarning: invalid value encountered in greater\n"
     ]
    },
    {
     "name": "stdout",
     "output_type": "stream",
     "text": [
      "Iteration: \t70 / 100\n",
      "Confirmed: \t24\n",
      "Tentative: \t1\n",
      "Rejected: \t32\n"
     ]
    },
    {
     "name": "stderr",
     "output_type": "stream",
     "text": [
      "/opt/conda/lib/python3.6/site-packages/Boruta-0.1.5-py3.6.egg/boruta/boruta_py.py:418: RuntimeWarning: invalid value encountered in greater\n"
     ]
    },
    {
     "name": "stdout",
     "output_type": "stream",
     "text": [
      "Iteration: \t71 / 100\n",
      "Confirmed: \t24\n",
      "Tentative: \t1\n",
      "Rejected: \t32\n"
     ]
    },
    {
     "name": "stderr",
     "output_type": "stream",
     "text": [
      "/opt/conda/lib/python3.6/site-packages/Boruta-0.1.5-py3.6.egg/boruta/boruta_py.py:418: RuntimeWarning: invalid value encountered in greater\n"
     ]
    },
    {
     "name": "stdout",
     "output_type": "stream",
     "text": [
      "Iteration: \t72 / 100\n",
      "Confirmed: \t24\n",
      "Tentative: \t1\n",
      "Rejected: \t32\n"
     ]
    },
    {
     "name": "stderr",
     "output_type": "stream",
     "text": [
      "/opt/conda/lib/python3.6/site-packages/Boruta-0.1.5-py3.6.egg/boruta/boruta_py.py:418: RuntimeWarning: invalid value encountered in greater\n"
     ]
    },
    {
     "name": "stdout",
     "output_type": "stream",
     "text": [
      "Iteration: \t73 / 100\n",
      "Confirmed: \t24\n",
      "Tentative: \t1\n",
      "Rejected: \t32\n"
     ]
    },
    {
     "name": "stderr",
     "output_type": "stream",
     "text": [
      "/opt/conda/lib/python3.6/site-packages/Boruta-0.1.5-py3.6.egg/boruta/boruta_py.py:418: RuntimeWarning: invalid value encountered in greater\n"
     ]
    },
    {
     "name": "stdout",
     "output_type": "stream",
     "text": [
      "Iteration: \t74 / 100\n",
      "Confirmed: \t24\n",
      "Tentative: \t1\n",
      "Rejected: \t32\n",
      "Iteration: \t75 / 100\n",
      "Confirmed: \t24\n",
      "Tentative: \t0\n",
      "Rejected: \t33\n",
      "\n",
      "\n",
      "BorutaPy finished running.\n",
      "\n",
      "Iteration: \t76 / 100\n",
      "Confirmed: \t24\n",
      "Tentative: \t0\n",
      "Rejected: \t33\n",
      "\n",
      " Time taken: 0 hours 45 minutes and 29.8 seconds.\n"
     ]
    },
    {
     "name": "stderr",
     "output_type": "stream",
     "text": [
      "/opt/conda/lib/python3.6/site-packages/Boruta-0.1.5-py3.6.egg/boruta/boruta_py.py:418: RuntimeWarning: invalid value encountered in greater\n"
     ]
    }
   ],
   "source": [
    "rfc = RandomForestClassifier(n_estimators=200, n_jobs=4, class_weight='balanced', max_depth=6)\n",
    "boruta_selector = BorutaPy(rfc, n_estimators='auto', verbose=2)\n",
    "start_time = timer(None)\n",
    "boruta_selector.fit(X, y)\n",
    "timer(start_time)"
   ]
  },
  {
   "cell_type": "markdown",
   "metadata": {
    "_cell_guid": "b2f2d7fc-58a3-4526-bab2-bdcc1f93af66",
    "_uuid": "d9d007291afdaa42f6269f44e84a0d3a8ff554c8"
   },
   "source": [
    "The summary of the whole run is shown here. Couple of attributes at the end are commented out. Finally, we save train and test datasets with a subset of selected features."
   ]
  },
  {
   "cell_type": "code",
   "execution_count": 4,
   "metadata": {
    "_cell_guid": "8a903aee-cd84-4589-bb21-41fa12870172",
    "_uuid": "0cde287e95efbd9f516d1b9c44b7af3578373841"
   },
   "outputs": [
    {
     "name": "stdout",
     "output_type": "stream",
     "text": [
      "\n",
      " Initial features:  ['ps_ind_01', 'ps_ind_02_cat', 'ps_ind_03', 'ps_ind_04_cat', 'ps_ind_05_cat', 'ps_ind_06_bin', 'ps_ind_07_bin', 'ps_ind_08_bin', 'ps_ind_09_bin', 'ps_ind_10_bin', 'ps_ind_11_bin', 'ps_ind_12_bin', 'ps_ind_13_bin', 'ps_ind_14', 'ps_ind_15', 'ps_ind_16_bin', 'ps_ind_17_bin', 'ps_ind_18_bin', 'ps_reg_01', 'ps_reg_02', 'ps_reg_03', 'ps_car_01_cat', 'ps_car_02_cat', 'ps_car_03_cat', 'ps_car_04_cat', 'ps_car_05_cat', 'ps_car_06_cat', 'ps_car_07_cat', 'ps_car_08_cat', 'ps_car_09_cat', 'ps_car_10_cat', 'ps_car_11_cat', 'ps_car_11', 'ps_car_12', 'ps_car_13', 'ps_car_14', 'ps_car_15', 'ps_calc_01', 'ps_calc_02', 'ps_calc_03', 'ps_calc_04', 'ps_calc_05', 'ps_calc_06', 'ps_calc_07', 'ps_calc_08', 'ps_calc_09', 'ps_calc_10', 'ps_calc_11', 'ps_calc_12', 'ps_calc_13', 'ps_calc_14', 'ps_calc_15_bin', 'ps_calc_16_bin', 'ps_calc_17_bin', 'ps_calc_18_bin', 'ps_calc_19_bin', 'ps_calc_20_bin']\n",
      "\n",
      " Number of selected features:\n",
      "24\n",
      "\n",
      " Top 24 features:\n",
      "         features  rank\n",
      "0       ps_ind_01     1\n",
      "1       ps_car_15     1\n",
      "2       ps_car_14     1\n",
      "3       ps_car_13     1\n",
      "4       ps_car_12     1\n",
      "5   ps_car_07_cat     1\n",
      "6   ps_car_06_cat     1\n",
      "7   ps_car_05_cat     1\n",
      "8   ps_car_04_cat     1\n",
      "9   ps_car_03_cat     1\n",
      "10  ps_car_02_cat     1\n",
      "11  ps_car_01_cat     1\n",
      "12      ps_reg_03     1\n",
      "13      ps_reg_02     1\n",
      "14      ps_reg_01     1\n",
      "15  ps_ind_17_bin     1\n",
      "16  ps_car_08_cat     1\n",
      "17  ps_ind_05_cat     1\n",
      "18      ps_ind_15     1\n",
      "19      ps_ind_03     1\n",
      "20  ps_ind_06_bin     1\n",
      "21  ps_ind_07_bin     1\n",
      "22  ps_ind_09_bin     1\n",
      "23  ps_ind_16_bin     1\n",
      "\n",
      " Feature ranking:\n",
      "[ 1  6  1  7  1  1  1  2  1 33 32 23 34 24  1  1  1 11  1  1  1  1  1  1  1\n",
      "  1  1  1  1  4 31  3  5  1  1  1  1 15 11 14 21 18 19 15 17 19  8 10 22 13\n",
      "  9 25 28 29 26 26 30]\n"
     ]
    }
   ],
   "source": [
    "print ('\\n Initial features: ', train.drop(['id','target'], axis=1).columns.tolist() )\n",
    "\n",
    "# number of selected features\n",
    "print ('\\n Number of selected features:')\n",
    "print (boruta_selector.n_features_)\n",
    "\n",
    "feature_df = pd.DataFrame(train.drop(['id','target'], axis=1).columns.tolist(), columns=['features'])\n",
    "feature_df['rank']=boruta_selector.ranking_\n",
    "feature_df = feature_df.sort_values('rank', ascending=True).reset_index(drop=True)\n",
    "print ('\\n Top %d features:' % boruta_selector.n_features_)\n",
    "print (feature_df.head(boruta_selector.n_features_))\n",
    "feature_df.to_csv('boruta-feature-ranking.csv', index=False)\n",
    "\n",
    "# check ranking of features\n",
    "print ('\\n Feature ranking:')\n",
    "print (boruta_selector.ranking_)\n",
    "\n",
    "# check selected features\n",
    "# print ('\\n Selected features:')\n",
    "# print (boruta_selector.support_)\n",
    "\n",
    "# check weak features\n",
    "# print ('\\n Support for weak features:')\n",
    "#print (boruta_selector.support_weak_)\n",
    "\n",
    "selected = train.drop(['id','target'], axis=1).columns[boruta_selector.support_]\n",
    "train = train[selected]\n",
    "train['id'] = tr_ids\n",
    "train['target'] = y\n",
    "train = train.set_index('id')\n",
    "train.to_csv('train_boruta_filtered.csv', index_label='id')\n",
    "test = test[selected]\n",
    "test['id'] = te_ids\n",
    "test = test.set_index('id')\n",
    "test.to_csv('test_boruta_filtered.csv', index_label='id')"
   ]
  }
 ],
 "metadata": {
  "kernelspec": {
   "display_name": "Python 3",
   "language": "python",
   "name": "python3"
  },
  "language_info": {
   "codemirror_mode": {
    "name": "ipython",
    "version": 3
   },
   "file_extension": ".py",
   "mimetype": "text/x-python",
   "name": "python",
   "nbconvert_exporter": "python",
   "pygments_lexer": "ipython3",
   "version": "3.6.3"
  }
 },
 "nbformat": 4,
 "nbformat_minor": 1
}
